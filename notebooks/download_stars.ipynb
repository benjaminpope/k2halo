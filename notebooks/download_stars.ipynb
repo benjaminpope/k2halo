{
 "cells": [
  {
   "cell_type": "code",
   "execution_count": 1,
   "metadata": {},
   "outputs": [],
   "source": [
    "import numpy as np\n",
    "import matplotlib.pyplot as plt\n",
    "import glob\n",
    "\n",
    "from astropy.table import Table, join, Column\n",
    "% matplotlib inline\n",
    "\n",
    "import matplotlib as mpl\n",
    "mpl.style.use('seaborn-colorblind')\n",
    "\n",
    "#To make sure we have always the same matplotlib settings\n",
    "#(the ones in comments are the ipython notebook settings)\n",
    "\n",
    "mpl.rcParams['figure.figsize']=(12.0,9.0)    #(6.0,4.0)\n",
    "mpl.rcParams['font.size']=20               #10 \n",
    "mpl.rcParams['savefig.dpi']= 200             #72 \n",
    "mpl.rcParams['axes.labelsize'] = 18\n",
    "mpl.rcParams['axes.labelsize'] = 18\n",
    "mpl.rcParams['xtick.labelsize'] = 14\n",
    "mpl.rcParams['ytick.labelsize'] = 14\n",
    "from matplotlib import rc\n",
    "\n",
    "colours = mpl.rcParams['axes.prop_cycle'].by_key()['color']\n"
   ]
  },
  {
   "cell_type": "code",
   "execution_count": 2,
   "metadata": {},
   "outputs": [],
   "source": [
    "fname = '../data/haloC4.csv'\n",
    "data = Table.read(fname,format='ascii')\n",
    "shortcad = open('../data/shortcad.txt','r').read().split('\\n')"
   ]
  },
  {
   "cell_type": "code",
   "execution_count": 3,
   "metadata": {},
   "outputs": [
    {
     "data": {
      "text/html": [
       "<i>Table masked=True length=9</i>\n",
       "<table id=\"table4418674192\" class=\"table-striped table-bordered table-condensed\">\n",
       "<thead><tr><th>Name</th><th>Vmag</th><th>Sp. Type</th><th>EPIC ID</th><th>RA (J2000)</th><th>Dec (J2000)</th><th>MASK</th><th>Comments</th></tr></thead>\n",
       "<thead><tr><th>str8</th><th>float64</th><th>str12</th><th>int64</th><th>str24</th><th>int64</th><th>str7</th><th>str17</th></tr></thead>\n",
       "<tr><td>Alcyone</td><td>2.986</td><td>B7III</td><td>200007767</td><td>--</td><td>--</td><td>LC Halo</td><td>\\tablenotemark{a}</td></tr>\n",
       "<tr><td>Atlas</td><td>3.763</td><td>B8III</td><td>200007768</td><td>--</td><td>--</td><td>LC Halo</td><td>\\tablenotemark{a}</td></tr>\n",
       "<tr><td>Electra</td><td>3.851</td><td>B6IIIe</td><td>200007769</td><td>--</td><td>--</td><td>LC Halo</td><td>\\tablenotemark{a}</td></tr>\n",
       "<tr><td>Merope</td><td>4.305</td><td>--</td><td>200007770</td><td>B6IVe</td><td>--</td><td>LC Halo</td><td>\\tablenotemark{a}</td></tr>\n",
       "<tr><td>Maia</td><td>4.305</td><td>--</td><td>200007771</td><td>B8III</td><td>--</td><td>LC Halo</td><td>\\tablenotemark{a}</td></tr>\n",
       "<tr><td>Taygeta</td><td>4.448</td><td>--</td><td>200007772</td><td>B6IV</td><td>--</td><td>LC Halo</td><td>\\tablenotemark{a}</td></tr>\n",
       "<tr><td>Pleione</td><td>5.192</td><td>--</td><td>200007773</td><td>B8Vne</td><td>--</td><td>LC Halo</td><td>\\tablenotemark{a}</td></tr>\n",
       "<tr><td>gam Tau</td><td>3.474</td><td>--</td><td>200007765</td><td>G9.5III\\tablenotemark{1}</td><td>--</td><td>LC Halo</td><td>--</td></tr>\n",
       "<tr><td>del1 Tau</td><td>3.585</td><td>G9.5IIICN0.5</td><td>200007766</td><td>--</td><td>--</td><td>LC Halo</td><td>--</td></tr>\n",
       "</table>"
      ],
      "text/plain": [
       "<Table masked=True length=9>\n",
       "  Name     Vmag    Sp. Type   ... Dec (J2000)   MASK       Comments    \n",
       "  str8   float64    str12     ...    int64      str7        str17      \n",
       "-------- ------- ------------ ... ----------- ------- -----------------\n",
       " Alcyone   2.986        B7III ...          -- LC Halo \\tablenotemark{a}\n",
       "   Atlas   3.763        B8III ...          -- LC Halo \\tablenotemark{a}\n",
       " Electra   3.851       B6IIIe ...          -- LC Halo \\tablenotemark{a}\n",
       "  Merope   4.305           -- ...          -- LC Halo \\tablenotemark{a}\n",
       "    Maia   4.305           -- ...          -- LC Halo \\tablenotemark{a}\n",
       " Taygeta   4.448           -- ...          -- LC Halo \\tablenotemark{a}\n",
       " Pleione   5.192           -- ...          -- LC Halo \\tablenotemark{a}\n",
       " gam Tau   3.474           -- ...          -- LC Halo                --\n",
       "del1 Tau   3.585 G9.5IIICN0.5 ...          -- LC Halo                --"
      ]
     },
     "execution_count": 3,
     "metadata": {},
     "output_type": "execute_result"
    }
   ],
   "source": [
    "data"
   ]
  },
  {
   "cell_type": "code",
   "execution_count": 4,
   "metadata": {},
   "outputs": [
    {
     "name": "stdout",
     "output_type": "stream",
     "text": [
      "Campaign 4 \n",
      "\n",
      "../data/haloC4.csv\n",
      "Alcyone 200007767 LC Halo\n",
      "Atlas 200007768 LC Halo\n",
      "Electra 200007769 LC Halo\n",
      "Merope 200007770 LC Halo\n",
      "Maia 200007771 LC Halo\n",
      "Taygeta 200007772 LC Halo\n",
      "Pleione 200007773 LC Halo\n",
      "gam Tau 200007765 LC Halo\n",
      "del1 Tau 200007766 LC Halo\n",
      "\n",
      "\n",
      "Campaign 6 \n",
      "\n",
      "../data/haloC6.csv\n",
      "\n",
      "\n",
      "Campaign 7 \n",
      "\n",
      "../data/haloC7.csv\n",
      "Ascella 200062593 Halo\n",
      "Albaldah 200062592 Halo\n",
      "tau Sgr 200062591 Halo\n",
      "ksi2 Sgr 200062590 Halo\n",
      "omi Sgr 200062589 Halo\n",
      "52 Sgr 200062585 Halo\n",
      "Ainalrami 200062588 Halo\n",
      "psi Sgr 200062584 Halo\n",
      "43 Sgr 200062587 Halo\n",
      "nu2 Sgr 200062586 Halo\n",
      "\n",
      "\n",
      "Campaign 8 \n",
      "\n",
      "../data/haloC8.csv\n",
      "eps Psc 200068392 Halo\n",
      "Revati 200068393 Halo\n",
      "80 Psc 200068394 Halo\n",
      "42 Cet 200068399 Halo\n",
      "33 Cet 200068395 Halo\n",
      "60 Psc 200068396 Halo\n",
      "73 Psc 200068397 Halo\n",
      "WW Psc 200068398 Halo\n",
      "HR 243 200068400 Halo\n",
      "HR 161 200068401 Halo\n",
      "\n",
      "\n",
      "Campaign 9 \n",
      "\n",
      "../data/haloC9.csv\n",
      "HR 6766 200069361 Halo\n",
      "HR 6842 200069360 Halo\n",
      "4 Sgr 200069357 Halo\n",
      "11 Sgr 200069358 Halo\n",
      "7 Sgr 200069362 Halo\n",
      "15 Sgr 200069359 Halo\n",
      "HR 6838 200069363 Halo\n",
      "Y Sgr 200069364 Halo\n",
      "HR 6716 200069365 Halo\n",
      "HR 6681 200069366 Halo\n",
      "9 Sgr 200069368 Halo\n",
      "16 Sgr 200069367 Halo\n",
      "HR 6825 200069369 Halo\n",
      "63 Oph 200069370 Halo\n",
      "HR 6679 200069373 Halo\n",
      "HD 165784 200069371 Halo\n",
      "HD 161083 200069374 Halo\n",
      "5 Sgr 200069372 Halo\n",
      "HD 167576 200069378 Halo\n",
      "HR 6773 200069380 Halo\n",
      "HD 163296 200071159 Halo\n",
      "HD 165052 200069379 Halo\n",
      "17 Sgr 200069375 Halo\n",
      "HD 169966 200069376 Halo\n",
      "HD 162030 200069377 Halo\n",
      "\n",
      "\n",
      "Campaign 10 \n",
      "\n",
      "../data/haloC10.csv\n",
      "Porrima 200084004 Halo\n",
      "Zaniah 200084005 Halo\n",
      "21 Vir 200084006 Halo\n",
      "FW Vir 200084007 Halo\n",
      "HR 4837 200084008 Halo\n",
      "HR 4591 200084009 Halo\n",
      "HR 4613 200084010 Halo\n",
      "HD 107794 200084011 Halo\n",
      "\n",
      "\n",
      "Campaign 11 \n",
      "\n",
      "../data/haloC11.csv\n",
      "tet Oph 200128906 Halo\n",
      "44 Oph 200128907 Halo\n",
      "45 Oph 200128908 Halo\n",
      "51 Oph 200128909 Halo\n",
      "36 Oph 200129035 Halo\n",
      "omi Oph 200128910 Halo\n",
      "26 Oph 200129034 Halo\n",
      "HR 6472 200128911 Halo\n",
      "HR 6366 200128913 Halo\n",
      "HR 6365 200128912 Halo\n",
      "191 Oph 200128914 Halo\n",
      "\n",
      "\n",
      "Campaign 12 \n",
      "\n",
      "../data/haloC12.csv\n",
      "kap Psc 200164167 Halo\n",
      "83 Aqr 200164168 Halo\n",
      "24 Psc 200164169 Halo\n",
      "HR 8759 200164170 Halo\n",
      "14 Psc 200164171 Halo\n",
      "HR 8921 200164172 Halo\n",
      "81 Aqr 200164173 Halo\n",
      "HR 8897 200164174 Halo\n",
      "\n",
      "\n",
      "Campaign 13 \n",
      "\n",
      "../data/haloC13.csv\n",
      "Aldebaran 200173843 LC Halo\n",
      "tet2 Tau 200173845 LC Halo\n",
      "tet2 Tau 200173879 SC Halo\n",
      "eps Tau 200173844 LC Halo\n",
      "tet1 Tau 200173846 LC Halo\n",
      "kap1 Tau 200173847 LC Halo\n",
      "kap1 Tau 200173880 SC Halo\n",
      "del3 Tau 200173849 LC Halo\n",
      "tau Tau 200173850 LC Halo\n",
      "ups Tau 200173848 LC Halo\n",
      "ups Tau 200173881 SC Halo\n",
      "rho Tau 200173851 LC Halo\n",
      "rho Tau 200173882 SC Halo\n",
      "11 Ori 200173853 LC Halo\n",
      "HR 1427 200173855 LC Halo\n",
      "HR 1427 200173883 SC Halo\n",
      "15 Ori 200173854 LC Halo\n",
      "75 Tau 200173852 LC Halo\n",
      "97 Tau 200173857 LC Halo\n",
      "97 Tau 200173884 SC Halo\n",
      "HR 1684 200173856 LC Halo\n",
      "kap2 Tau 200173859 LC Halo\n",
      "kap2 Tau 200173885 SC Halo\n",
      "56 Tau 200173861 LC Halo\n",
      "81 Tau 200173860 LC Halo\n",
      "53 Tau 200173864 LC Halo\n",
      "HR 1585 200173858 LC Halo\n",
      "80 Tau 200173866 LC Halo\n",
      "51 Tau 200173865 LC Halo\n",
      "HR 1403 200173867 LC Halo\n",
      "89 Tau 200173868 LC Halo\n",
      "HR 1576 200173871 LC Halo\n",
      "98 Tau 200173870 LC Halo\n",
      "99 Tau 200173862 LC Halo\n",
      "105 Tau 200173869 LC Halo\n",
      "HR 1554 200173874 LC Halo\n",
      "HR 1385 200173875 LC Halo\n",
      "85 Tau 200173878 SC Halo\n",
      "HR 1459 200173877 SC Halo\n",
      "HR 1741 200173873 LC Halo\n",
      "HR 1633 200173872 LC Halo\n",
      "HR 1755 200173876 LC Halo\n",
      "\n",
      "\n",
      "Campaign 14 \n",
      "\n",
      "../data/haloC14.csv\n",
      "rho Leo 200182931 Halo\n",
      "58 Leo 200182925 Halo\n",
      "48 Leo 200182926 Halo\n",
      "53 Leo 200182928 Halo\n",
      "65 Leo 200182927 Halo\n",
      "35 Sex 200182929 Halo\n",
      "43 Leo 200182930 Halo\n",
      "\n",
      "\n",
      "Campaign 15 \n",
      "\n",
      "../data/haloC15.csv\n",
      "Dschubba 200194910 Halo\n",
      "Zubenelhakrabi 200194911 Halo\n",
      "iot1 Lib 200194912 Halo\n",
      "41 Lib 200194913 Halo\n",
      "zet4 Lib 200194914 Halo\n",
      "HR 5762 200194915 Halo\n",
      "HR 5806 200194916 Halo\n",
      "zet3 Lib 200194917 Halo\n",
      "HR 5810 200194918 Halo\n",
      "iot2 Lib 200194919 Halo\n",
      "HR 5620 200194920 Halo\n",
      "28 Lib 200194921 Halo\n",
      "HD 138810 200194958 Halo\n",
      "\n",
      "\n",
      "Campaign 16 \n",
      "\n",
      "../data/haloC16.csv\n",
      "Asellus Australis 200200356 Halo\n",
      "Acubens 200200357 Halo\n",
      "ksi Cnc 200200358 Halo\n",
      "omi1 Cnc 200200360 Halo\n",
      "eta Cnc 200200359 Halo\n",
      "45 Cnc 200200728 Halo\n",
      "45 Cnc 200200728 SC Halo\n",
      "omi2 Cnc 200200361 Halo\n",
      "50 Cnc 200200363 Halo\n",
      "\n",
      "\n",
      "Campaign 17 \n",
      "\n",
      "../data/haloC17.csv\n",
      "Spica 200213067 Halo\n",
      "82 Vir 200213053 Halo\n",
      "76 Vir 200213054 Halo\n",
      "68 Vir 200213055 Halo\n",
      "80 Vir 200213056 Halo\n",
      "HR 5106 200213057 Halo\n",
      "HR 5059 200213058 Halo\n",
      "\n",
      "\n",
      "Campaign 18 \n",
      "\n",
      "../data/haloC18.csv\n",
      "gam Cnc 200233186 Halo\n",
      "zet Cnc 200233643 Halo\n",
      "eta Cnc 200233187 Halo\n",
      "60 Cnc 200233188 Halo\n",
      "49 Cnc 200233189 Halo\n",
      "HR 3264 200233190 Halo\n",
      "50 Cnc 200233191 Halo\n",
      "29 Cnc 200233192 Halo\n",
      "HR 3222 200233193 Halo\n",
      "21 Cnc 200233196 Halo\n",
      "25 Cnc 200233644 Halo\n",
      "HR 3558 200233195 Halo\n",
      "HR 3541 200233194 Halo\n",
      "\n",
      "\n"
     ]
    }
   ],
   "source": [
    "campaigns = range(4,19)\n",
    "objective = 'tv'\n",
    "lag = 10\n",
    "template = \"wget -q -nH --cut-dirs=6 -r -l0 -c -N -np -R 'index*' -erobots=off\"\n",
    "\n",
    "f = open('../data/download_halo.txt','w')\n",
    "h = open('../scripts/sbatch_k2sc_all.txt','w')\n",
    "h.write('python correct_halo.py -c 6 -name Spica --objective %s &> Spica_output.txt\\n' % objective) # do Spica manually\n",
    "k = open('../reduced/sbatch_halo_all.txt','w')\n",
    "short = open('../reduced/short.txt','w')\n",
    "for campaign in campaigns:\n",
    "    if campaign == 5:\n",
    "        continue\n",
    "    print('Campaign',campaign,'\\n')\n",
    "    g = open('../reduced/halo_commands_c%d.txt' % campaign,'w')\n",
    "    fname = '../data/haloC%d.csv' % campaign\n",
    "    print(fname)\n",
    "    data = Table.read(fname,format='ascii')\n",
    "    \n",
    "    for star in data:\n",
    "        epic = star['EPIC ID']\n",
    "        if 'alo' in star['MASK']:\n",
    "            print(star['Name'],star['EPIC ID'],star['MASK'])\n",
    "            if campaign == 11:\n",
    "                campaign = 111 # no 112\n",
    "            fname = 'ktwo%d-c%02d_lpd-targ.fits.gz' % (epic,campaign)\n",
    "            shortfname = fname.replace('lpd','spd')\n",
    "            if campaign in [9, 10]:\n",
    "                for j in [1,2]:\n",
    "                    fname = 'ktwo%d-c%d%d_lpd-targ.fits.gz' % (epic,campaign,j)\n",
    "                    url = 'https://archive.stsci.edu/pub/k2/target_pixel_files/c%d%d/%s00000/%s000/%s' % (campaign,j,str(epic)[:4],str(epic)[4:6],fname)\n",
    "                    command = template+' '+url\n",
    "                    f.write(command+'\\n')\n",
    "                    halocommand = 'halo %s --data-dir ../data/ --save-dir ../reduced/c%d%d/ --name %s -c %d%d --thresh 0.5 --objective %s --lag %d --do-plot\\n' % (fname,campaign,j,star['Name'].replace(' ','_'),campaign,j,objective,lag)\n",
    "                    if campaign ==9:\n",
    "                        halocommand = 'halo %s --data-dir ../data/ --save-dir ../reduced/c%d%d/ --name %s -c %d%d --thresh 0.5 --objective %s --lag %d --deathstar --do-plot\\n' % (fname,campaign,j,star['Name'].replace(' ','_'),campaign,j,objective,lag)\n",
    "                    g.write(halocommand)\n",
    "                    k.write(halocommand)\n",
    "                    if shortfname in shortcad:\n",
    "                        shortcommand = 'halo %s --data-dir ../data/ --save-dir ../reduced/short/ --name %s -c %d%d --thresh 0.5 --objective %s --lag 300 --deathstar --do-plot\\n' % (shortfname,star['Name'].replace(' ','_'),campaign,j,objective)\n",
    "                        short.write(shortcommand)\n",
    "\n",
    "                    if (campaign == 10) and (j == 2):\n",
    "                        k2sc_command = 'python correct_halo.py -c %d%d -name %s --objective %s &> %s_output%d.txt' % (campaign,j,star['Name'].replace(' ','_'),objective,star['Name'].replace(' ','_'),j)\n",
    "                        h.write(k2sc_command+'\\n')\n",
    "            else:\n",
    "                url = 'https://archive.stsci.edu/pub/k2/target_pixel_files/c%d/%s00000/%s000/%s' % (campaign,str(epic)[:4],str(epic)[4:6],fname)\n",
    "                command = template+' '+url\n",
    "                f.write(command+'\\n')\n",
    "                k2sc_command = 'python correct_halo.py -c %d -name %s --objective %s &> %s_output.txt' % (campaign,star['Name'].replace(' ','_'),objective,star['Name'].replace(' ','_'))\n",
    "                h.write(k2sc_command+'\\n')\n",
    "\n",
    "#             print(command)\n",
    "                halocommand = 'halo %s --data-dir ../data/ --save-dir ../reduced/c%d/ --name %s -c %d --thresh 0.5 --objective %s --lag %d --do-plot\\n' % (fname,campaign,star['Name'].replace(' ','_'),campaign,objective,lag)\n",
    "                g.write(halocommand)\n",
    "                k.write(halocommand)\n",
    "                if shortfname in shortcad:\n",
    "                    shortcommand = 'halo %s --data-dir ../data/ --save-dir ../reduced/short/ --name %s -c %d --thresh 0.5 --objective %s --lag 300 --do-plot\\n' % (shortfname,star['Name'].replace(' ','_'),campaign,objective)\n",
    "                    short.write(shortcommand)\n",
    "\n",
    "#             print(halocommand)\n",
    "    g.close()\n",
    "    print('\\n')\n",
    "f.close()\n",
    "h.close()\n",
    "k.close()\n",
    "short.close()"
   ]
  },
  {
   "cell_type": "code",
   "execution_count": 5,
   "metadata": {},
   "outputs": [
    {
     "data": {
      "text/plain": [
       "'ktwo200233194-c18_lpd-targ.fits.gz'"
      ]
     },
     "execution_count": 5,
     "metadata": {},
     "output_type": "execute_result"
    }
   ],
   "source": [
    "fname.replace('lpd','lpd')"
   ]
  },
  {
   "cell_type": "markdown",
   "metadata": {},
   "source": [
    "### Now let us make some tables for the paper\n"
   ]
  },
  {
   "cell_type": "code",
   "execution_count": 6,
   "metadata": {},
   "outputs": [
    {
     "data": {
      "text/html": [
       "<i>Table masked=True length=13</i>\n",
       "<table id=\"table4418820080\" class=\"table-striped table-bordered table-condensed\">\n",
       "<thead><tr><th>Name</th><th>Vmag</th><th>Sp. Type</th><th>EPIC ID</th><th>RA (J2000) [deg]</th><th>Dec (J2000) [deg]</th><th>MASK</th><th>Investigation IDs</th><th>TPF</th><th>LC Halo Lightcurve</th><th>Lightcurve Image</th><th>Weight Image</th><th>Flux Image</th><th>Project</th><th>Contact</th><th>Publication</th><th>Comments</th></tr></thead>\n",
       "<thead><tr><th>str8</th><th>float64</th><th>str12</th><th>int64</th><th>float64</th><th>float64</th><th>str7</th><th>str87</th><th>int64</th><th>int64</th><th>int64</th><th>int64</th><th>int64</th><th>int64</th><th>int64</th><th>int64</th><th>str7</th></tr></thead>\n",
       "<tr><td>gam Cnc</td><td>4.652</td><td>A1IV</td><td>200233186</td><td>130.8214508</td><td>21.46850022</td><td>Halo</td><td>GO18038|GO18051|GAMMA_CANCRI-LC-BRIGHT_STAR_DISC</td><td>--</td><td>--</td><td>--</td><td>--</td><td>--</td><td>--</td><td>--</td><td>--</td><td>C5</td></tr>\n",
       "<tr><td>zet Cnc</td><td>4.67</td><td>F8V+G0V</td><td>200233643</td><td>123.0530265</td><td>17.64776708</td><td>Halo</td><td>GO18038|GO18051|ZETA_CANCRI-SC-BRIGHT_STAR_DISC</td><td>--</td><td>--</td><td>--</td><td>--</td><td>--</td><td>--</td><td>--</td><td>--</td><td>C5</td></tr>\n",
       "<tr><td>eta Cnc</td><td>5.325</td><td>K3III</td><td>200233187</td><td>128.1770667</td><td>20.44116292</td><td>Halo</td><td>GO18038|GO18051|ETA_CANCRI-LC-BRIGHT_STAR_DISC</td><td>--</td><td>--</td><td>--</td><td>--</td><td>--</td><td>--</td><td>--</td><td>--</td><td>C5, C16</td></tr>\n",
       "<tr><td>60 Cnc</td><td>5.44</td><td>K5III</td><td>200233188</td><td>133.98145</td><td>11.62602</td><td>Halo</td><td>GO18051|GO18068|60_CANCRI-LC-BRIGHT_STAR_DISC</td><td>--</td><td>--</td><td>--</td><td>--</td><td>--</td><td>--</td><td>--</td><td>--</td><td>C5, C16</td></tr>\n",
       "<tr><td>49 Cnc</td><td>5.66</td><td>A1VpHgMnSiEu</td><td>200233189</td><td>131.1876504</td><td>10.08166753</td><td>Halo</td><td>GO18049|GO18051|GO18067|49_CANCRI-LC-BRIGHT_STAR_DISC</td><td>--</td><td>--</td><td>--</td><td>--</td><td>--</td><td>--</td><td>--</td><td>--</td><td>C5</td></tr>\n",
       "<tr><td>HR 3264</td><td>5.798</td><td>K1III</td><td>200233190</td><td>125.08739</td><td>20.74772</td><td>Halo</td><td>GO18051|GO18068|HR_3264-LC-BRIGHT_STAR_DISC</td><td>--</td><td>--</td><td>--</td><td>--</td><td>--</td><td>--</td><td>--</td><td>--</td><td>C5</td></tr>\n",
       "<tr><td>50 Cnc</td><td>5.885</td><td>A1Vp</td><td>200233191</td><td>131.7334112</td><td>12.10995057</td><td>Halo</td><td>GO18038|GO18049|GO18051|50_CANCRI-LC-BRIGHT_STAR_DISC</td><td>--</td><td>--</td><td>--</td><td>--</td><td>--</td><td>--</td><td>--</td><td>--</td><td>C5, C16</td></tr>\n",
       "<tr><td>29 Cnc</td><td>5.948</td><td>A5V</td><td>200233192</td><td>127.1555775</td><td>14.21082345</td><td>Halo</td><td>GO18049|GO18051|29_CANCRI-LC-BRIGHT_STAR_DISC</td><td>--</td><td>--</td><td>--</td><td>--</td><td>--</td><td>--</td><td>--</td><td>--</td><td>C5</td></tr>\n",
       "<tr><td>HR 3222</td><td>6.047</td><td>G8III</td><td>200233193</td><td>123.2488715</td><td>16.51431877</td><td>Halo</td><td>GO18051|HR_3222-LC-BRIGHT_STAR_DISC</td><td>--</td><td>--</td><td>--</td><td>--</td><td>--</td><td>--</td><td>--</td><td>--</td><td>C5</td></tr>\n",
       "<tr><td>21 Cnc</td><td>6.08</td><td>M2III</td><td>200233196</td><td>125.9800391</td><td>10.63205666</td><td>Halo</td><td>GO18051|GO18067|21_CANCRI-LC-BRIGHT_STAR_DISC</td><td>--</td><td>--</td><td>--</td><td>--</td><td>--</td><td>--</td><td>--</td><td>--</td><td>C5</td></tr>\n",
       "<tr><td>25 Cnc</td><td>6.1</td><td>F5IIIm?</td><td>200233644</td><td>126.45782</td><td>17.04627</td><td>Halo</td><td>GO18036|GO18038|GO18049|GO18051|GO18066|25_CANCRI-SC-BRIGHT_STAR_DISC</td><td>--</td><td>--</td><td>--</td><td>--</td><td>--</td><td>--</td><td>--</td><td>--</td><td>C5</td></tr>\n",
       "<tr><td>HR 3558</td><td>6.146</td><td>K1III</td><td>200233195</td><td>134.284504</td><td>17.14374897</td><td>Halo</td><td>GO18051|HR_3558-LC-BRIGHT_STAR_DISC</td><td>--</td><td>--</td><td>--</td><td>--</td><td>--</td><td>--</td><td>--</td><td>--</td><td>C5</td></tr>\n",
       "<tr><td>HR 3541</td><td>6.4</td><td>C6,4</td><td>200233194</td><td>133.84534</td><td>17.23128</td><td>Halo</td><td>GO18017|GO18051|X_CANCRI-LC-BRIGHT_STAR_DISC</td><td>--</td><td>--</td><td>--</td><td>--</td><td>--</td><td>--</td><td>--</td><td>--</td><td>C5</td></tr>\n",
       "</table>"
      ],
      "text/plain": [
       "<Table masked=True length=13>\n",
       "  Name    Vmag    Sp. Type    EPIC ID  ... Project Contact Publication Comments\n",
       "  str8  float64    str12       int64   ...  int64   int64     int64      str7  \n",
       "------- ------- ------------ --------- ... ------- ------- ----------- --------\n",
       "gam Cnc   4.652         A1IV 200233186 ...      --      --          --       C5\n",
       "zet Cnc    4.67      F8V+G0V 200233643 ...      --      --          --       C5\n",
       "eta Cnc   5.325        K3III 200233187 ...      --      --          --  C5, C16\n",
       " 60 Cnc    5.44        K5III 200233188 ...      --      --          --  C5, C16\n",
       " 49 Cnc    5.66 A1VpHgMnSiEu 200233189 ...      --      --          --       C5\n",
       "HR 3264   5.798        K1III 200233190 ...      --      --          --       C5\n",
       " 50 Cnc   5.885         A1Vp 200233191 ...      --      --          --  C5, C16\n",
       " 29 Cnc   5.948          A5V 200233192 ...      --      --          --       C5\n",
       "HR 3222   6.047        G8III 200233193 ...      --      --          --       C5\n",
       " 21 Cnc    6.08        M2III 200233196 ...      --      --          --       C5\n",
       " 25 Cnc     6.1      F5IIIm? 200233644 ...      --      --          --       C5\n",
       "HR 3558   6.146        K1III 200233195 ...      --      --          --       C5\n",
       "HR 3541     6.4         C6,4 200233194 ...      --      --          --       C5"
      ]
     },
     "execution_count": 6,
     "metadata": {},
     "output_type": "execute_result"
    }
   ],
   "source": [
    "data[['Halo' in mask for mask in data['MASK']]]"
   ]
  },
  {
   "cell_type": "code",
   "execution_count": 7,
   "metadata": {},
   "outputs": [],
   "source": [
    "from astroquery.simbad import Simbad\n",
    "from astropy import coordinates as coord\n",
    "from astropy import units as u\n",
    "\n"
   ]
  },
  {
   "cell_type": "code",
   "execution_count": 8,
   "metadata": {},
   "outputs": [],
   "source": [
    "Simbad.reset_votable_fields()\n",
    "Simbad.add_votable_fields('sptype')\n",
    "sim = Simbad.query_objects(data['Name'])\n",
    "data['SpType'] = sim['SP_TYPE']\n"
   ]
  },
  {
   "cell_type": "code",
   "execution_count": 9,
   "metadata": {},
   "outputs": [],
   "source": [
    "from astropy.io import ascii\n",
    "names = ['Name','EPIC','RA (J2000)','Dec (J2000)','Spectral','V']\n",
    "units = ['', '', '(deg)','(deg)','Type','mag']\n",
    "\n",
    "latexdict = ascii.latex.latexdicts['AA'].copy()\n",
    "latexdict['tabletype']= 'table*'\n",
    "latexdict['units'] = dict(zip(names,units))\n"
   ]
  },
  {
   "cell_type": "code",
   "execution_count": 10,
   "metadata": {},
   "outputs": [
    {
     "data": {
      "text/plain": [
       "{'tabletype': 'table*',\n",
       " 'header_start': '\\\\hline \\\\hline',\n",
       " 'header_end': '\\\\hline',\n",
       " 'data_end': '\\\\hline',\n",
       " 'units': {'Name': '',\n",
       "  'EPIC': '',\n",
       "  'RA (J2000)': '(deg)',\n",
       "  'Dec (J2000)': '(deg)',\n",
       "  'Spectral': 'Type',\n",
       "  'V': 'mag'}}"
      ]
     },
     "execution_count": 10,
     "metadata": {},
     "output_type": "execute_result"
    }
   ],
   "source": [
    "latexdict"
   ]
  },
  {
   "cell_type": "code",
   "execution_count": 11,
   "metadata": {},
   "outputs": [
    {
     "name": "stdout",
     "output_type": "stream",
     "text": [
      "Written ../paper/table_c18.tex\n"
     ]
    }
   ],
   "source": [
    "to_write = data[['Halo' in mask for mask in data['MASK']]]['Name','EPIC ID','RA (J2000) [deg]','Dec (J2000) [deg]','SpType','Vmag']\n",
    "to_write.rename_column('EPIC ID','EPIC')\n",
    "to_write.rename_column('RA (J2000) [deg]','RA (J2000)')\n",
    "to_write.rename_column('Dec (J2000) [deg]','Dec (J2000)')\n",
    "to_write.rename_column('SpType','Spectral')\n",
    "to_write.rename_column('Vmag','V')\n",
    "to_write['Campaign'] = campaign*np.ones(len(to_write),dtype='int')\n",
    "\n",
    "\n",
    "caption = r\"All stars observed with halo photometry in Campaign %d.\" % campaign \n",
    "to_write.write('../paper/table_c%d.tex' % campaign,format='latex',latexdict=latexdict,caption=caption+'\\label{table_c%d}' % campaign,overwrite=True)\n",
    "print('Written %s' % '../paper/table_c%d.tex' % campaign)\n"
   ]
  },
  {
   "cell_type": "code",
   "execution_count": 12,
   "metadata": {},
   "outputs": [],
   "source": [
    "from astropy.table import vstack, hstack\n",
    "simgreek = ['alf','bet','gam','del','eps','zet','eta','tet','iot','kap','lam','mu','nu','ksi','omi','pi','rho','sig','tau','ups','phi','khi','psi','ome']\n",
    "latexgreek = ['\\\\alpha', '\\\\beta', '\\\\gamma','\\\\delta','\\\\epsilon','\\\\zeta','\\\\eta','\\\\theta','\\\\iota','\\\\kappa','\\\\lambda','\\\\mu','\\\\nu','\\\\xi','o','\\\\pi','\\\\rho','\\\\sigma','\\\\tau','\\\\upsilon','\\\\phi','\\\\chi','\\\\psi','\\\\omega']\n",
    "def translate_greek(word):\n",
    "    for j, letter in enumerate(simgreek):\n",
    "        if letter in word:\n",
    "            word = word.replace(letter,'$%s$' % latexgreek[j])\n",
    "            return(word)\n",
    "    return(word)"
   ]
  },
  {
   "cell_type": "code",
   "execution_count": 13,
   "metadata": {},
   "outputs": [
    {
     "data": {
      "text/html": [
       "<i>Table masked=True length=37</i>\n",
       "<table id=\"table4636579208\" class=\"table-striped table-bordered table-condensed\">\n",
       "<thead><tr><th>Name</th><th>Vmag</th><th>Sp. Type</th><th>EPIC ID</th><th>RA (J2000) [deg]</th><th>Dec (J2000) [deg]</th><th>MASK</th><th>Investigation IDs</th><th>TPF</th><th>LC Halo Lightcurve</th><th>Lightcurve Image</th><th>Weight Image</th><th>Flux Image</th><th>Project</th><th>Contact</th><th>Publication</th><th>Comments</th><th>SpType</th></tr></thead>\n",
       "<thead><tr><th>str8</th><th>float64</th><th>str12</th><th>int64</th><th>float64</th><th>float64</th><th>str7</th><th>str87</th><th>int64</th><th>int64</th><th>int64</th><th>int64</th><th>int64</th><th>int64</th><th>int64</th><th>int64</th><th>str7</th><th>object</th></tr></thead>\n",
       "<tr><td>gam Cnc</td><td>4.652</td><td>A1IV</td><td>200233186</td><td>130.8214508</td><td>21.46850022</td><td>Halo</td><td>GO18038|GO18051|GAMMA_CANCRI-LC-BRIGHT_STAR_DISC</td><td>--</td><td>--</td><td>--</td><td>--</td><td>--</td><td>--</td><td>--</td><td>--</td><td>C5</td><td>A1IV</td></tr>\n",
       "<tr><td>zet Cnc</td><td>4.67</td><td>F8V+G0V</td><td>200233643</td><td>123.0530265</td><td>17.64776708</td><td>Halo</td><td>GO18038|GO18051|ZETA_CANCRI-SC-BRIGHT_STAR_DISC</td><td>--</td><td>--</td><td>--</td><td>--</td><td>--</td><td>--</td><td>--</td><td>--</td><td>C5</td><td>F8V+G0V</td></tr>\n",
       "<tr><td>eta Cnc</td><td>5.325</td><td>K3III</td><td>200233187</td><td>128.1770667</td><td>20.44116292</td><td>Halo</td><td>GO18038|GO18051|ETA_CANCRI-LC-BRIGHT_STAR_DISC</td><td>--</td><td>--</td><td>--</td><td>--</td><td>--</td><td>--</td><td>--</td><td>--</td><td>C5, C16</td><td>K3III</td></tr>\n",
       "<tr><td>60 Cnc</td><td>5.44</td><td>K5III</td><td>200233188</td><td>133.98145</td><td>11.62602</td><td>Halo</td><td>GO18051|GO18068|60_CANCRI-LC-BRIGHT_STAR_DISC</td><td>--</td><td>--</td><td>--</td><td>--</td><td>--</td><td>--</td><td>--</td><td>--</td><td>C5, C16</td><td>K5III</td></tr>\n",
       "<tr><td>60 Cnc</td><td>5.44</td><td>K5III</td><td>211399051</td><td>133.98145</td><td>11.62602</td><td>Regular</td><td>GO18051_LC|GO18068_LC</td><td>--</td><td>--</td><td>--</td><td>--</td><td>--</td><td>--</td><td>--</td><td>--</td><td>C5, C16</td><td>K5III</td></tr>\n",
       "<tr><td>49 Cnc</td><td>5.66</td><td>A1VpHgMnSiEu</td><td>200233189</td><td>131.1876504</td><td>10.08166753</td><td>Halo</td><td>GO18049|GO18051|GO18067|49_CANCRI-LC-BRIGHT_STAR_DISC</td><td>--</td><td>--</td><td>--</td><td>--</td><td>--</td><td>--</td><td>--</td><td>--</td><td>C5</td><td>A1VpHgMnSiEu</td></tr>\n",
       "<tr><td>HR 3264</td><td>5.798</td><td>K1III</td><td>200233190</td><td>125.08739</td><td>20.74772</td><td>Halo</td><td>GO18051|GO18068|HR_3264-LC-BRIGHT_STAR_DISC</td><td>--</td><td>--</td><td>--</td><td>--</td><td>--</td><td>--</td><td>--</td><td>--</td><td>C5</td><td>K1III</td></tr>\n",
       "<tr><td>HR 3264</td><td>5.798</td><td>K1III</td><td>212029623</td><td>125.08739</td><td>20.74772</td><td>Regular</td><td>GO18051_LC|GO18068_LC</td><td>--</td><td>--</td><td>--</td><td>--</td><td>--</td><td>--</td><td>--</td><td>--</td><td>C5</td><td>K1III</td></tr>\n",
       "<tr><td>50 Cnc</td><td>5.885</td><td>A1Vp</td><td>200233191</td><td>131.7334112</td><td>12.10995057</td><td>Halo</td><td>GO18038|GO18049|GO18051|50_CANCRI-LC-BRIGHT_STAR_DISC</td><td>--</td><td>--</td><td>--</td><td>--</td><td>--</td><td>--</td><td>--</td><td>--</td><td>C5, C16</td><td>A1Vp</td></tr>\n",
       "<tr><td>29 Cnc</td><td>5.948</td><td>A5V</td><td>200233192</td><td>127.1555775</td><td>14.21082345</td><td>Halo</td><td>GO18049|GO18051|29_CANCRI-LC-BRIGHT_STAR_DISC</td><td>--</td><td>--</td><td>--</td><td>--</td><td>--</td><td>--</td><td>--</td><td>--</td><td>C5</td><td>A5V</td></tr>\n",
       "<tr><td>...</td><td>...</td><td>...</td><td>...</td><td>...</td><td>...</td><td>...</td><td>...</td><td>...</td><td>...</td><td>...</td><td>...</td><td>...</td><td>...</td><td>...</td><td>...</td><td>...</td><td>...</td></tr>\n",
       "<tr><td>HD 69072</td><td>7.55</td><td>K0</td><td>211897761</td><td>123.99351</td><td>18.6939</td><td>Regular</td><td>GO18051_LC</td><td>--</td><td>--</td><td>--</td><td>--</td><td>--</td><td>--</td><td>--</td><td>--</td><td>C5</td><td>K0</td></tr>\n",
       "<tr><td>HD 73578</td><td>7.62</td><td>K2</td><td>211716813</td><td>129.91504</td><td>16.14155</td><td>Regular</td><td>GO18051_LC</td><td>--</td><td>--</td><td>--</td><td>--</td><td>--</td><td>--</td><td>--</td><td>--</td><td>C5, C16</td><td>K2</td></tr>\n",
       "<tr><td>HD 76445</td><td>7.64</td><td>G5</td><td>211811597</td><td>134.19162</td><td>17.48135</td><td>Regular</td><td>GO18026_LC|GO18036_LC|GO18038_LC|GO18043_LC|GO18050_LC|GO18051_LC|GO18068_LC</td><td>--</td><td>--</td><td>--</td><td>--</td><td>--</td><td>--</td><td>--</td><td>--</td><td>C5, C16</td><td>G5</td></tr>\n",
       "<tr><td>HD 69031</td><td>7.66</td><td>K0</td><td>211818031</td><td>123.91479</td><td>17.57202</td><td>Regular</td><td>GO18051_LC</td><td>--</td><td>--</td><td>--</td><td>--</td><td>--</td><td>--</td><td>--</td><td>--</td><td>C5</td><td>K0</td></tr>\n",
       "<tr><td>HD 69938</td><td>7.68</td><td>G5</td><td>211974750</td><td>125.00043</td><td>19.85097</td><td>Regular</td><td>GO18051_LC</td><td>--</td><td>--</td><td>--</td><td>--</td><td>--</td><td>--</td><td>--</td><td>--</td><td>C5</td><td>G5</td></tr>\n",
       "<tr><td>HD 75842</td><td>7.81</td><td>G5</td><td>211732180</td><td>133.24475</td><td>16.35687</td><td>Regular</td><td>GO18051_LC</td><td>--</td><td>--</td><td>--</td><td>--</td><td>--</td><td>--</td><td>--</td><td>--</td><td>C5, C16</td><td>G5</td></tr>\n",
       "<tr><td>HD 71750</td><td>7.85</td><td>G5</td><td>211499807</td><td>127.34996</td><td>13.13764</td><td>Regular</td><td>GO18051_LC</td><td>--</td><td>--</td><td>--</td><td>--</td><td>--</td><td>--</td><td>--</td><td>--</td><td>C5</td><td>G5</td></tr>\n",
       "<tr><td>HD 70899</td><td>7.9</td><td>K0</td><td>211439345</td><td>126.23257</td><td>12.23613</td><td>Regular</td><td>GO18051_LC|GO18067_LC</td><td>--</td><td>--</td><td>--</td><td>--</td><td>--</td><td>--</td><td>--</td><td>--</td><td>C5</td><td>K0</td></tr>\n",
       "<tr><td>HD 74227</td><td>7.96</td><td>G5</td><td>211568804</td><td>130.80377</td><td>14.10759</td><td>Regular</td><td>GO18050_LC|GO18051_LC</td><td>--</td><td>--</td><td>--</td><td>--</td><td>--</td><td>--</td><td>--</td><td>--</td><td>C5</td><td>G5</td></tr>\n",
       "<tr><td>HD 72306</td><td>7.99</td><td>K0</td><td>211686973</td><td>128.15929</td><td>15.73947</td><td>Regular</td><td>GO18051_LC</td><td>--</td><td>--</td><td>--</td><td>--</td><td>--</td><td>--</td><td>--</td><td>--</td><td>C5</td><td>K0</td></tr>\n",
       "</table>"
      ],
      "text/plain": [
       "<Table masked=True length=37>\n",
       "  Name     Vmag    Sp. Type    EPIC ID  ... Publication Comments    SpType   \n",
       "  str8   float64    str12       int64   ...    int64      str7      object   \n",
       "-------- ------- ------------ --------- ... ----------- -------- ------------\n",
       " gam Cnc   4.652         A1IV 200233186 ...          --       C5         A1IV\n",
       " zet Cnc    4.67      F8V+G0V 200233643 ...          --       C5      F8V+G0V\n",
       " eta Cnc   5.325        K3III 200233187 ...          --  C5, C16        K3III\n",
       "  60 Cnc    5.44        K5III 200233188 ...          --  C5, C16        K5III\n",
       "  60 Cnc    5.44        K5III 211399051 ...          --  C5, C16        K5III\n",
       "  49 Cnc    5.66 A1VpHgMnSiEu 200233189 ...          --       C5 A1VpHgMnSiEu\n",
       " HR 3264   5.798        K1III 200233190 ...          --       C5        K1III\n",
       " HR 3264   5.798        K1III 212029623 ...          --       C5        K1III\n",
       "  50 Cnc   5.885         A1Vp 200233191 ...          --  C5, C16         A1Vp\n",
       "  29 Cnc   5.948          A5V 200233192 ...          --       C5          A5V\n",
       "     ...     ...          ...       ... ...         ...      ...          ...\n",
       "HD 69072    7.55           K0 211897761 ...          --       C5           K0\n",
       "HD 73578    7.62           K2 211716813 ...          --  C5, C16           K2\n",
       "HD 76445    7.64           G5 211811597 ...          --  C5, C16           G5\n",
       "HD 69031    7.66           K0 211818031 ...          --       C5           K0\n",
       "HD 69938    7.68           G5 211974750 ...          --       C5           G5\n",
       "HD 75842    7.81           G5 211732180 ...          --  C5, C16           G5\n",
       "HD 71750    7.85           G5 211499807 ...          --       C5           G5\n",
       "HD 70899     7.9           K0 211439345 ...          --       C5           K0\n",
       "HD 74227    7.96           G5 211568804 ...          --       C5           G5\n",
       "HD 72306    7.99           K0 211686973 ...          --       C5           K0"
      ]
     },
     "execution_count": 13,
     "metadata": {},
     "output_type": "execute_result"
    }
   ],
   "source": [
    "data"
   ]
  },
  {
   "cell_type": "code",
   "execution_count": 14,
   "metadata": {},
   "outputs": [
    {
     "name": "stdout",
     "output_type": "stream",
     "text": [
      "Campaign 4 \n",
      "\n",
      "Campaign 6 \n",
      "\n",
      "Campaign 7 \n",
      "\n",
      "Campaign 8 \n",
      "\n",
      "Campaign 9 \n",
      "\n",
      "Campaign 10 \n",
      "\n",
      "Campaign 11 \n",
      "\n",
      "Campaign 12 \n",
      "\n",
      "Campaign 13 \n",
      "\n",
      "Campaign 14 \n",
      "\n",
      "Campaign 15 \n",
      "\n",
      "Campaign 16 \n",
      "\n",
      "Campaign 17 \n",
      "\n",
      "Campaign 18 \n",
      "\n",
      "Spica repeated\n",
      "eta Cnc repeated\n",
      "50 Cnc repeated\n",
      "Written ../paper/table_all.tex\n"
     ]
    }
   ],
   "source": [
    "campaigns = range(4,19)\n",
    "\n",
    "campaign_tables = []\n",
    "\n",
    "for campaign in campaigns:\n",
    "    if campaign == 5:\n",
    "        continue\n",
    "    print('Campaign',campaign,'\\n')\n",
    "    \n",
    "    fname = '../data/haloC%d.csv' % campaign\n",
    "    data = Table.read(fname,format='ascii')\n",
    "    data=data[~data['Name'].mask]\n",
    "    \n",
    "    sc = data[['SC' in mask for mask in data['MASK']]]\n",
    "    data = data[['SC' not in mask for mask in data['MASK']]]\n",
    "    \n",
    "    sim = Simbad.query_objects(data['Name'])\n",
    "    if campaign == 4:\n",
    "        sim = sim[sim['COO_ERR_MAJA']<10]\n",
    "    \n",
    "    data['SpType'] = Column([sptype.replace('_',' ') for sptype in sim['SP_TYPE'].astype('str')],name='SpType')\n",
    "    data['Campaign'] = campaign*np.ones(len(data),dtype='int')\n",
    "    \n",
    "    if campaign != 6:\n",
    "        to_write = data[['Halo' in mask for mask in data['MASK']]]['Name','EPIC ID','SpType','Vmag','Campaign','Comments']\n",
    "    else:\n",
    "        to_write = data['Name','EPIC ID','SpType','Vmag','Campaign','Comments']\n",
    "    to_write['Comments']= to_write['Comments'].astype('str')\n",
    "    for short in sc['Name']:\n",
    "        to_write['Comments'][to_write['Name']==short] = 'SC' \n",
    "    to_write.rename_column('EPIC ID','EPIC')\n",
    "#     to_write.rename_column('RA (J2000) [deg]','RA (J2000)')\n",
    "#     to_write.rename_column('Dec (J2000) [deg]','Dec (J2000)')\n",
    "    to_write.rename_column('SpType','Spectral')\n",
    "    to_write.rename_column('Vmag','V')\n",
    "    campaign_tables.append(to_write)\n",
    "    \n",
    "all_write = vstack(campaign_tables)\n",
    "all_write['Campaign'] = all_write['Campaign'].astype('str')\n",
    "\n",
    "repeated = set([i for i in all_write['Name'] if sum([1 for a in all_write['Name'] if a == i]) > 1])\n",
    "for repeat in repeated:\n",
    "    print(repeat,'repeated')\n",
    "    m = (all_write['Name']==repeat)\n",
    "    all_write[np.where(m)[0][0]]['Campaign'] += ', %s' % all_write[m]['Campaign'][1]\n",
    "    all_write.remove_row(np.where(m)[0][1])\n",
    "    \n",
    "for j, name in enumerate(all_write['Name']):\n",
    "    if name[0].isupper():\n",
    "        continue\n",
    "    else:\n",
    "        all_write['Name'][j] = translate_greek(name)\n",
    "    \n",
    "units = ['','','Type','(mag)','','']\n",
    "latexdict_apj = {'units':dict(zip(all_write.keys(),units))}\n",
    "caption = r\"All stars observed with halo photometry in K2.\"\n",
    "all_write.write('../paper/table_all.tex',format='aastex',caption=caption+'\\label{table_all}',\n",
    "                latexdict=latexdict_apj,overwrite=True)\n",
    "print('Written %s' % '../paper/table_all.tex')\n",
    "tablenotes = ['\\\\tablenotetext{a}{\\citet{White2017}}',\n",
    "              '\\\\tablenotetext{b}{\\citet{Buysschaert2018}}',\n",
    "              '\\\\tablenotetext{c}{\\citet{Farr2018}}',\n",
    "              '\\\\tablenotetext{d}{\\citet{Arentoft2019}}',\n",
    "              '\\\\tablenotetext{e}{\\citet{Aerts2018}}',\n",
    "             '\\\\tablenotetext{1}{abCN0.5}']\n",
    "with open('../paper/table_all.tex', 'r') as original: oldtext = original.read().replace('\\end{deluxetable}',\n",
    "                                                                                        '\\n'.join(tablenotes)+\n",
    "                                                                                        '\\n\\end{deluxetable}')\n",
    "with open('../paper/table_all.tex', 'w') as modified: modified.write(\"\\\\startlongtable\\n\" + oldtext)\n"
   ]
  },
  {
   "cell_type": "code",
   "execution_count": 15,
   "metadata": {},
   "outputs": [
    {
     "data": {
      "text/plain": [
       "'\\tablenotetext{a}{\\\\citet{White2017}}\\n\\tablenotetext{a}{\\\\citet{White2017}}\\n\\tablenotetext{a}{\\\\citet{White2017}}\\n\\tablenotetext{a}{\\\\citet{White2017}}\\n\\tablenotetext{a}{\\\\citet{White2017}}'"
      ]
     },
     "execution_count": 15,
     "metadata": {},
     "output_type": "execute_result"
    }
   ],
   "source": [
    "tablenotes = ['\\tablenotetext{a}{\\citet{White2017}}']*5\n",
    "'\\n'.join(tablenotes)"
   ]
  },
  {
   "cell_type": "code",
   "execution_count": 16,
   "metadata": {},
   "outputs": [
    {
     "name": "stdout",
     "output_type": "stream",
     "text": [
      "Written ../paper/all_stars_1.tex\n",
      "Written ../paper/all_stars_2.tex\n",
      "Written ../paper/all_stars_3.tex\n",
      "Written ../paper/all_stars_4.tex\n",
      "Written ../paper/all_stars_5.tex\n",
      "Written ../paper/all_stars_6.tex\n"
     ]
    }
   ],
   "source": [
    "for l, ccat in enumerate([all_write[:29],all_write[29:54],all_write[54:81],all_write[81:114],all_write[114:134],all_write[134:]]):\n",
    "    latexdict = ascii.latex.latexdicts['AA'].copy()\n",
    "    latexdict['tabletype']= 'table*'\n",
    "    latexdict['units'] = dict(zip(names,units))\n",
    "    \n",
    "    campaigns_list = ['Campaigns 7-8','Campaign 9','Campaigns 10-12','Campaign 13','Campaigns 14-15','Campaigns 16-18']\n",
    "\n",
    "    caption = \"Stars in %s observed with halo photometry in K2.\" % campaigns_list[l]\n",
    "    ccat.write('../paper/all_stars_%d.tex' % (l+1),format='latex',latexdict=latexdict,caption=caption+'\\label{table_%s}' % l,overwrite=True)\n",
    "    print('Written %s' % '../paper/all_stars_%d.tex' % (l+1))\n",
    "        \n"
   ]
  },
  {
   "cell_type": "markdown",
   "metadata": {},
   "source": [
    "### Which are giants and which are main sequence?\n"
   ]
  },
  {
   "cell_type": "code",
   "execution_count": 17,
   "metadata": {},
   "outputs": [],
   "source": [
    "Simbad.reset_votable_fields()\n",
    "# Simbad.list_votable_fields()\n",
    "Simbad.add_votable_fields('parallax')\n",
    "sim = Simbad.query_objects(data['Name'])\n",
    "# data['SpType'] = sim['SP_TYPE']\n"
   ]
  },
  {
   "cell_type": "code",
   "execution_count": 18,
   "metadata": {},
   "outputs": [],
   "source": [
    "def abs_mag(app_mag,dist):\n",
    "    return app_mag - 5.*(np.log10(dist) - 1.)"
   ]
  },
  {
   "cell_type": "code",
   "execution_count": 19,
   "metadata": {},
   "outputs": [],
   "source": [
    "abs_V = abs_mag(data['Vmag'],1./(sim['PLX_VALUE']))"
   ]
  },
  {
   "cell_type": "code",
   "execution_count": 20,
   "metadata": {},
   "outputs": [
    {
     "name": "stdout",
     "output_type": "stream",
     "text": [
      "Campaign 6 \n",
      "\n",
      "Campaign 7 \n",
      "\n",
      "Campaign 8 \n",
      "\n",
      "Campaign 9 \n",
      "\n",
      "Campaign 10 \n",
      "\n",
      "Campaign 11 \n",
      "\n"
     ]
    },
    {
     "name": "stderr",
     "output_type": "stream",
     "text": [
      "/anaconda3/lib/python3.7/site-packages/astropy/table/column.py:221: UserWarning: Warning: converting a masked element to nan.\n",
      "  self_data = np.array(data, dtype=dtype, copy=copy)\n",
      "/anaconda3/lib/python3.7/site-packages/astropy/table/column.py:221: UserWarning: Warning: converting a masked element to nan.\n",
      "  self_data = np.array(data, dtype=dtype, copy=copy)\n"
     ]
    },
    {
     "name": "stdout",
     "output_type": "stream",
     "text": [
      "Campaign 12 \n",
      "\n",
      "Campaign 13 \n",
      "\n",
      "Campaign 14 \n",
      "\n",
      "Campaign 15 \n",
      "\n",
      "Campaign 16 \n",
      "\n",
      "Campaign 17 \n",
      "\n",
      "Campaign 18 \n",
      "\n"
     ]
    },
    {
     "name": "stderr",
     "output_type": "stream",
     "text": [
      "/anaconda3/lib/python3.7/site-packages/astropy/table/column.py:221: UserWarning: Warning: converting a masked element to nan.\n",
      "  self_data = np.array(data, dtype=dtype, copy=copy)\n"
     ]
    }
   ],
   "source": [
    "campaigns = range(6,19)\n",
    "\n",
    "campaign_tables = []\n",
    "\n",
    "Simbad.add_votable_fields('parallax')\n",
    "Simbad.add_votable_fields('parallax')\n",
    "Simbad.add_votable_fields('flux(B)')\n",
    "Simbad.add_votable_fields('sptype')\n",
    "\n",
    "\n",
    "for campaign in campaigns:\n",
    "    print('Campaign',campaign,'\\n')\n",
    "    \n",
    "    fname = '../data/haloC%d.csv' % campaign\n",
    "    data = Table.read(fname,format='ascii')\n",
    "    data=data[~data['Name'].mask]\n",
    "\n",
    "    data = data[['SC' not in mask for mask in data['MASK']]]\n",
    "    sim = Simbad.query_objects(data['Name'])\n",
    "    data['SpType'] = Column([sptype.replace('_',' ') for sptype in sim['SP_TYPE'].astype('str')],name='SpType')\n",
    "\n",
    "    data['parallax'] = Column([parallax for parallax in sim['PLX_VALUE']],name='parallax')\n",
    "    data['Bmag'] = Column([b for b in sim['FLUX_B']],name='Bmag')\n",
    "\n",
    "    data['Campaign'] = campaign*np.ones(len(data),dtype='int')\n",
    "            \n",
    "    to_write = data[['Halo' in mask for mask in data['MASK']]]['Name','EPIC ID','Vmag','Bmag','Campaign','parallax','SpType']\n",
    "    to_write.rename_column('EPIC ID','EPIC')\n",
    "    campaign_tables.append(to_write)\n",
    "    \n",
    "all_plot = vstack(campaign_tables)\n",
    "all_plot['Campaign'] = all_plot['Campaign'].astype('str')\n",
    "all_plot['abs_Vmag'] = abs_mag(all_plot['Vmag'],1./(all_plot['parallax']/1000.))\n",
    "all_plot['b_v'] = all_plot['Bmag']-all_plot['Vmag']"
   ]
  },
  {
   "cell_type": "code",
   "execution_count": 21,
   "metadata": {},
   "outputs": [],
   "source": [
    "giants = np.array(['III' in sptype for sptype in all_plot['SpType']])"
   ]
  },
  {
   "cell_type": "code",
   "execution_count": 22,
   "metadata": {},
   "outputs": [
    {
     "data": {
      "text/plain": [
       "<matplotlib.lines.Line2D at 0x11745af28>"
      ]
     },
     "execution_count": 22,
     "metadata": {},
     "output_type": "execute_result"
    },
    {
     "data": {
      "image/png": "[encoded data removed]",
      "text/plain": [
       "<Figure size 432x288 with 1 Axes>"
      ]
     },
     "metadata": {
      "needs_background": "light"
     },
     "output_type": "display_data"
    }
   ],
   "source": [
    "plt.plot(all_plot['b_v'],all_plot['abs_Vmag'],'.')\n",
    "plt.plot(all_plot['b_v'][giants],all_plot['abs_Vmag'][giants],'.')\n",
    "\n",
    "plt.ylim(4,-8)\n",
    "plt.axvline(0.75)\n",
    "plt.axvline(0.5,color=colours[2])"
   ]
  },
  {
   "cell_type": "code",
   "execution_count": 23,
   "metadata": {},
   "outputs": [
    {
     "name": "stderr",
     "output_type": "stream",
     "text": [
      "/anaconda3/lib/python3.7/site-packages/astropy/table/column.py:965: RuntimeWarning: invalid value encountered in less\n",
      "  return getattr(self.data, op)(other)\n",
      "/anaconda3/lib/python3.7/site-packages/astropy/table/column.py:965: RuntimeWarning: invalid value encountered in greater\n",
      "  return getattr(self.data, op)(other)\n"
     ]
    },
    {
     "data": {
      "text/html": [
       "<i>Table masked=True length=4</i>\n",
       "<table id=\"table4683881720\" class=\"table-striped table-bordered table-condensed\">\n",
       "<thead><tr><th>Name</th><th>EPIC</th><th>Vmag</th><th>Bmag</th><th>Campaign</th><th>parallax</th><th>SpType</th><th>abs_Vmag</th><th>b_v</th></tr></thead>\n",
       "<thead><tr><th>str17</th><th>int64</th><th>float64</th><th>float64</th><th>str21</th><th>float64</th><th>str21</th><th>float64</th><th>float64</th></tr></thead>\n",
       "<tr><td>psi Sgr</td><td>200062584</td><td>4.85</td><td>5.409999847412109</td><td>7</td><td>10.93</td><td>K0/1III+A/F</td><td>0.04310080974851438</td><td>0.5599998474121097</td></tr>\n",
       "<tr><td>42 Cet</td><td>200068399</td><td>5.87</td><td>6.510000228881836</td><td>8</td><td>9.93</td><td>G8IV+A(8)</td><td>0.8547462424769057</td><td>0.6400002288818358</td></tr>\n",
       "<tr><td>7 Sgr</td><td>200069362</td><td>5.34</td><td>5.860000133514404</td><td>9</td><td>2.8053</td><td>F2II-III</td><td>-2.4201034414191778</td><td>0.5200001335144044</td></tr>\n",
       "<tr><td>zet Cnc</td><td>200233643</td><td>4.67</td><td>5.199999809265137</td><td>18</td><td>39.87</td><td>F8V+G0V</td><td>2.6732311783119727</td><td>0.5299998092651368</td></tr>\n",
       "</table>"
      ],
      "text/plain": [
       "<Table masked=True length=4>\n",
       "  Name     EPIC     Vmag  ...    SpType         abs_Vmag             b_v        \n",
       " str17    int64   float64 ...    str21          float64            float64      \n",
       "------- --------- ------- ... ----------- ------------------- ------------------\n",
       "psi Sgr 200062584    4.85 ... K0/1III+A/F 0.04310080974851438 0.5599998474121097\n",
       " 42 Cet 200068399    5.87 ...   G8IV+A(8)  0.8547462424769057 0.6400002288818358\n",
       "  7 Sgr 200069362    5.34 ...    F2II-III -2.4201034414191778 0.5200001335144044\n",
       "zet Cnc 200233643    4.67 ...     F8V+G0V  2.6732311783119727 0.5299998092651368"
      ]
     },
     "execution_count": 23,
     "metadata": {},
     "output_type": "execute_result"
    }
   ],
   "source": [
    "funny = (all_plot['b_v']<0.75)*(all_plot['b_v']>0.5)\n",
    "all_plot[funny]"
   ]
  },
  {
   "cell_type": "code",
   "execution_count": 24,
   "metadata": {},
   "outputs": [],
   "source": [
    "# psi Sgr is a giant\n",
    "# 42 Cet is a subgiant\n",
    "# 7 Sgr is a giant"
   ]
  },
  {
   "cell_type": "code",
   "execution_count": 25,
   "metadata": {},
   "outputs": [
    {
     "name": "stderr",
     "output_type": "stream",
     "text": [
      "/anaconda3/lib/python3.7/site-packages/astropy/table/column.py:965: RuntimeWarning: invalid value encountered in greater\n",
      "  return getattr(self.data, op)(other)\n",
      "WARNING: AstropyDeprecationWarning: halo_giants.csv already exists. Automatically overwriting ASCII files is deprecated. Use the argument 'overwrite=True' in the future. [astropy.io.ascii.ui]\n",
      "/anaconda3/lib/python3.7/site-packages/astropy/table/column.py:965: RuntimeWarning: invalid value encountered in less\n",
      "  return getattr(self.data, op)(other)\n",
      "WARNING: AstropyDeprecationWarning: halo_dwarfs.csv already exists. Automatically overwriting ASCII files is deprecated. Use the argument 'overwrite=True' in the future. [astropy.io.ascii.ui]\n"
     ]
    }
   ],
   "source": [
    "Table(all_plot['Name','EPIC'][all_plot['b_v']>0.5]).write('halo_giants.csv')\n",
    "Table(all_plot['Name','EPIC'][all_plot['b_v']<0.5]).write('halo_dwarfs.csv')\n"
   ]
  },
  {
   "cell_type": "code",
   "execution_count": 26,
   "metadata": {},
   "outputs": [],
   "source": [
    "# tab.write('halo_giants.csv')"
   ]
  },
  {
   "cell_type": "code",
   "execution_count": 27,
   "metadata": {},
   "outputs": [],
   "source": [
    "rgs = Table.read('../data/TargetsSeisParamsShort.csv',format='ascii')"
   ]
  },
  {
   "cell_type": "code",
   "execution_count": 28,
   "metadata": {},
   "outputs": [
    {
     "data": {
      "text/html": [
       "<i>Table length=31</i>\n",
       "<table id=\"table4680143424\" class=\"table-striped table-bordered table-condensed\">\n",
       "<thead><tr><th>epicid</th><th>numax</th><th>numaxerr</th><th>dnu</th><th>dnuerr</th></tr></thead>\n",
       "<thead><tr><th>int64</th><th>float64</th><th>float64</th><th>float64</th><th>float64</th></tr></thead>\n",
       "<tr><td>200007765</td><td>62.88519</td><td>1.43641</td><td>5.56429</td><td>0.17444</td></tr>\n",
       "<tr><td>200007766</td><td>62.59123</td><td>1.74219</td><td>5.71903</td><td>0.06925</td></tr>\n",
       "<tr><td>200062586</td><td>7.29299</td><td>0.14925</td><td>1.31019</td><td>0.04631</td></tr>\n",
       "<tr><td>200062590</td><td>11.7125</td><td>0.64569</td><td>1.87258</td><td>0.14649</td></tr>\n",
       "<tr><td>200062591</td><td>19.8491</td><td>0.80192</td><td>2.4554</td><td>0.06599</td></tr>\n",
       "<tr><td>200062592</td><td>46.95148</td><td>0.43368</td><td>5.96658</td><td>0.20496</td></tr>\n",
       "<tr><td>200068392</td><td>33.30912</td><td>1.21748</td><td>3.62276</td><td>0.0688</td></tr>\n",
       "<tr><td>200164170</td><td>10.13819</td><td>0.39047</td><td>1.56261</td><td>0.05254</td></tr>\n",
       "<tr><td>200164173</td><td>11.37651</td><td>0.22821</td><td>1.69055</td><td>0.0571</td></tr>\n",
       "<tr><td>200173844</td><td>54.46382</td><td>1.43783</td><td>5.13139</td><td>0.13344</td></tr>\n",
       "<tr><td>...</td><td>...</td><td>...</td><td>...</td><td>...</td></tr>\n",
       "<tr><td>200213054</td><td>40.01876</td><td>2.61622</td><td>3.76161</td><td>0.0915</td></tr>\n",
       "<tr><td>200062589</td><td>46.28447</td><td>1.0175</td><td>4.8219</td><td>0.06173</td></tr>\n",
       "<tr><td>200173858</td><td>9.38138</td><td>1.01247</td><td>1.48023</td><td>0.10252</td></tr>\n",
       "<tr><td>200173862</td><td>21.43688</td><td>1.06621</td><td>2.40795</td><td>0.06514</td></tr>\n",
       "<tr><td>200173876</td><td>18.77707</td><td>0.41086</td><td>2.03887</td><td>0.03883</td></tr>\n",
       "<tr><td>200182925</td><td>17.00863</td><td>0.4604</td><td>1.96969</td><td>0.23106</td></tr>\n",
       "<tr><td>200194917</td><td>44.17884</td><td>0.99561</td><td>3.55029</td><td>0.25678</td></tr>\n",
       "<tr><td>200194921</td><td>41.04859</td><td>0.86153</td><td>4.10494</td><td>0.173</td></tr>\n",
       "<tr><td>200213056</td><td>36.98157</td><td>1.83006</td><td>4.37587</td><td>0.07622</td></tr>\n",
       "<tr><td>200233190</td><td>22.92764</td><td>0.17473</td><td>3.00059</td><td>0.18006</td></tr>\n",
       "</table>"
      ],
      "text/plain": [
       "<Table length=31>\n",
       "  epicid   numax   numaxerr   dnu    dnuerr\n",
       "  int64   float64  float64  float64 float64\n",
       "--------- -------- -------- ------- -------\n",
       "200007765 62.88519  1.43641 5.56429 0.17444\n",
       "200007766 62.59123  1.74219 5.71903 0.06925\n",
       "200062586  7.29299  0.14925 1.31019 0.04631\n",
       "200062590  11.7125  0.64569 1.87258 0.14649\n",
       "200062591  19.8491  0.80192  2.4554 0.06599\n",
       "200062592 46.95148  0.43368 5.96658 0.20496\n",
       "200068392 33.30912  1.21748 3.62276  0.0688\n",
       "200164170 10.13819  0.39047 1.56261 0.05254\n",
       "200164173 11.37651  0.22821 1.69055  0.0571\n",
       "200173844 54.46382  1.43783 5.13139 0.13344\n",
       "      ...      ...      ...     ...     ...\n",
       "200213054 40.01876  2.61622 3.76161  0.0915\n",
       "200062589 46.28447   1.0175  4.8219 0.06173\n",
       "200173858  9.38138  1.01247 1.48023 0.10252\n",
       "200173862 21.43688  1.06621 2.40795 0.06514\n",
       "200173876 18.77707  0.41086 2.03887 0.03883\n",
       "200182925 17.00863   0.4604 1.96969 0.23106\n",
       "200194917 44.17884  0.99561 3.55029 0.25678\n",
       "200194921 41.04859  0.86153 4.10494   0.173\n",
       "200213056 36.98157  1.83006 4.37587 0.07622\n",
       "200233190 22.92764  0.17473 3.00059 0.18006"
      ]
     },
     "execution_count": 28,
     "metadata": {},
     "output_type": "execute_result"
    }
   ],
   "source": [
    "rgs"
   ]
  },
  {
   "cell_type": "code",
   "execution_count": 34,
   "metadata": {},
   "outputs": [],
   "source": [
    "write_rgs = rgs['epicid',]\n",
    "write_rgs.rename_column('epicid','EPIC')\n",
    "\n",
    "new_numax = Column(['%.1f $\\\\pm$ %.1f' % (numax, rgs['numaxerr'][j]) for j,numax in enumerate(rgs['numax'])],name='\\\\numax')\n",
    "new_Dnu = Column(['%.1f $\\\\pm$ %.1f' % (Dnu, rgs['dnuerr'][j]) for j,Dnu in enumerate(rgs['dnu'])],name=\"\\\\Dnu\")\n",
    "write_rgs.add_column(new_numax)\n",
    "write_rgs.add_column(new_Dnu)\n",
    "units = ['','(\\\\muHz)','(\\\\muHz)']\n",
    "latexdict_rgs = {'units':dict(zip(write_rgs.keys(),units))}\n",
    "\n",
    "caption='Global asteroseismic parameters for the 31 red giants for which solar-like oscillations were detected.'\n",
    "write_rgs.write('../paper/rgs.tex',format='aastex',caption=caption+'\\label{rgs}',\n",
    "                latexdict=latexdict_rgs,overwrite=True)\n",
    "\n",
    "# with open('../paper/rgs.tex', 'r') as original: oldtext = original.read()\n",
    "# with open('../paper/rgs.tex', 'w') as modified: modified.write(\"\\\\startlongtable\\n\" + oldtext)\n"
   ]
  },
  {
   "cell_type": "code",
   "execution_count": null,
   "metadata": {},
   "outputs": [],
   "source": []
  },
  {
   "cell_type": "code",
   "execution_count": null,
   "metadata": {},
   "outputs": [],
   "source": []
  }
 ],
 "metadata": {
  "kernelspec": {
   "display_name": "Python 3",
   "language": "python",
   "name": "python3"
  },
  "language_info": {
   "codemirror_mode": {
    "name": "ipython",
    "version": 3
   },
   "file_extension": ".py",
   "mimetype": "text/x-python",
   "name": "python",
   "nbconvert_exporter": "python",
   "pygments_lexer": "ipython3",
   "version": "3.7.0"
  }
 },
 "nbformat": 4,
 "nbformat_minor": 2
}
