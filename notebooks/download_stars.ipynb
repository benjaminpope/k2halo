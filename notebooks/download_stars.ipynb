{
 "cells": [
  {
   "cell_type": "code",
   "execution_count": 1,
   "metadata": {},
   "outputs": [],
   "source": [
    "import numpy as np\n",
    "import matplotlib.pyplot as plt\n",
    "import glob\n",
    "from string import ascii_uppercase\n",
    "import re\n",
    "\n",
    "from astropy.table import Table, join, Column,vstack, hstack\n",
    "\n",
    "% matplotlib inline\n",
    "\n",
    "import matplotlib as mpl\n",
    "mpl.style.use('seaborn-colorblind')\n",
    "\n",
    "#To make sure we have always the same matplotlib settings\n",
    "#(the ones in comments are the ipython notebook settings)\n",
    "\n",
    "mpl.rcParams['figure.figsize']=(12.0,9.0)    #(6.0,4.0)\n",
    "mpl.rcParams['font.size']=20               #10 \n",
    "mpl.rcParams['savefig.dpi']= 200             #72 \n",
    "mpl.rcParams['axes.labelsize'] = 18\n",
    "mpl.rcParams['axes.labelsize'] = 18\n",
    "mpl.rcParams['xtick.labelsize'] = 14\n",
    "mpl.rcParams['ytick.labelsize'] = 14\n",
    "from matplotlib import rc\n",
    "mpl.rcParams[\"font.family\"] = \"Times New Roman\"\n",
    "\n",
    "colours = mpl.rcParams['axes.prop_cycle'].by_key()['color']\n"
   ]
  },
  {
   "cell_type": "code",
   "execution_count": 2,
   "metadata": {},
   "outputs": [],
   "source": [
    "fname = '../data/haloC4.csv'\n",
    "data = Table.read(fname,format='ascii')\n",
    "shortcad = open('../data/shortcad.txt','r').read().split('\\n')"
   ]
  },
  {
   "cell_type": "code",
   "execution_count": 3,
   "metadata": {},
   "outputs": [
    {
     "data": {
      "text/html": [
       "<i>Table masked=True length=9</i>\n",
       "<table id=\"table4493358808\" class=\"table-striped table-bordered table-condensed\">\n",
       "<thead><tr><th>Name</th><th>Vmag</th><th>Sp. Type</th><th>EPIC ID</th><th>RA (J2000)</th><th>Dec (J2000)</th><th>MASK</th><th>Comments</th></tr></thead>\n",
       "<thead><tr><th>str8</th><th>float64</th><th>str12</th><th>int64</th><th>str24</th><th>int64</th><th>str7</th><th>str17</th></tr></thead>\n",
       "<tr><td>Alcyone</td><td>2.986</td><td>B7III</td><td>200007767</td><td>--</td><td>--</td><td>LC Halo</td><td>\\tablenotemark{a}</td></tr>\n",
       "<tr><td>Atlas</td><td>3.763</td><td>B8III</td><td>200007768</td><td>--</td><td>--</td><td>LC Halo</td><td>\\tablenotemark{a}</td></tr>\n",
       "<tr><td>Electra</td><td>3.851</td><td>B6IIIe</td><td>200007769</td><td>--</td><td>--</td><td>LC Halo</td><td>\\tablenotemark{a}</td></tr>\n",
       "<tr><td>Merope</td><td>4.305</td><td>--</td><td>200007770</td><td>B6IVe</td><td>--</td><td>LC Halo</td><td>\\tablenotemark{a}</td></tr>\n",
       "<tr><td>Maia</td><td>4.305</td><td>--</td><td>200007771</td><td>B8III</td><td>--</td><td>LC Halo</td><td>\\tablenotemark{a}</td></tr>\n",
       "<tr><td>Taygeta</td><td>4.448</td><td>--</td><td>200007772</td><td>B6IV</td><td>--</td><td>LC Halo</td><td>\\tablenotemark{a}</td></tr>\n",
       "<tr><td>Pleione</td><td>5.192</td><td>--</td><td>200007773</td><td>B8Vne</td><td>--</td><td>LC Halo</td><td>\\tablenotemark{a}</td></tr>\n",
       "<tr><td>gam Tau</td><td>3.474</td><td>--</td><td>200007765</td><td>G9.5III\\tablenotemark{1}</td><td>--</td><td>LC Halo</td><td>--</td></tr>\n",
       "<tr><td>del1 Tau</td><td>3.585</td><td>G9.5IIICN0.5</td><td>200007766</td><td>--</td><td>--</td><td>LC Halo</td><td>--</td></tr>\n",
       "</table>"
      ],
      "text/plain": [
       "<Table masked=True length=9>\n",
       "  Name     Vmag    Sp. Type   ... Dec (J2000)   MASK       Comments    \n",
       "  str8   float64    str12     ...    int64      str7        str17      \n",
       "-------- ------- ------------ ... ----------- ------- -----------------\n",
       " Alcyone   2.986        B7III ...          -- LC Halo \\tablenotemark{a}\n",
       "   Atlas   3.763        B8III ...          -- LC Halo \\tablenotemark{a}\n",
       " Electra   3.851       B6IIIe ...          -- LC Halo \\tablenotemark{a}\n",
       "  Merope   4.305           -- ...          -- LC Halo \\tablenotemark{a}\n",
       "    Maia   4.305           -- ...          -- LC Halo \\tablenotemark{a}\n",
       " Taygeta   4.448           -- ...          -- LC Halo \\tablenotemark{a}\n",
       " Pleione   5.192           -- ...          -- LC Halo \\tablenotemark{a}\n",
       " gam Tau   3.474           -- ...          -- LC Halo                --\n",
       "del1 Tau   3.585 G9.5IIICN0.5 ...          -- LC Halo                --"
      ]
     },
     "execution_count": 3,
     "metadata": {},
     "output_type": "execute_result"
    }
   ],
   "source": [
    "data"
   ]
  },
  {
   "cell_type": "code",
   "execution_count": 4,
   "metadata": {},
   "outputs": [
    {
     "name": "stdout",
     "output_type": "stream",
     "text": [
      "Campaign 4 \n",
      "\n",
      "../data/haloC4.csv\n",
      "Alcyone 200007767 LC Halo\n",
      "Atlas 200007768 LC Halo\n",
      "Electra 200007769 LC Halo\n",
      "Merope 200007770 LC Halo\n",
      "Maia 200007771 LC Halo\n",
      "Taygeta 200007772 LC Halo\n",
      "Pleione 200007773 LC Halo\n",
      "gam Tau 200007765 LC Halo\n",
      "del1 Tau 200007766 LC Halo\n",
      "\n",
      "\n",
      "Campaign 6 \n",
      "\n",
      "../data/haloC6.csv\n",
      "\n",
      "\n",
      "Campaign 7 \n",
      "\n",
      "../data/haloC7.csv\n",
      "Ascella 200062593 Halo\n",
      "Albaldah 200062592 Halo\n",
      "tau Sgr 200062591 Halo\n",
      "ksi2 Sgr 200062590 Halo\n",
      "omi Sgr 200062589 Halo\n",
      "52 Sgr 200062585 Halo\n",
      "Ainalrami 200062588 Halo\n",
      "psi Sgr 200062584 Halo\n",
      "43 Sgr 200062587 Halo\n",
      "nu2 Sgr 200062586 Halo\n",
      "\n",
      "\n",
      "Campaign 8 \n",
      "\n",
      "../data/haloC8.csv\n",
      "eps Psc 200068392 Halo\n",
      "Revati 200068393 Halo\n",
      "80 Psc 200068394 Halo\n",
      "42 Cet 200068399 Halo\n",
      "33 Cet 200068395 Halo\n",
      "60 Psc 200068396 Halo\n",
      "73 Psc 200068397 Halo\n",
      "WW Psc 200068398 Halo\n",
      "HR 243 200068400 Halo\n",
      "HR 161 200068401 Halo\n",
      "\n",
      "\n",
      "Campaign 9 \n",
      "\n",
      "../data/haloC9.csv\n",
      "HR 6766 200069361 Halo\n",
      "HR 6842 200069360 Halo\n",
      "4 Sgr 200069357 Halo\n",
      "11 Sgr 200069358 Halo\n",
      "7 Sgr 200069362 Halo\n",
      "15 Sgr 200069359 Halo\n",
      "HR 6838 200069363 Halo\n",
      "Y Sgr 200069364 Halo\n",
      "HR 6716 200069365 Halo\n",
      "HR 6681 200069366 Halo\n",
      "9 Sgr 200069368 Halo\n",
      "16 Sgr 200069367 Halo\n",
      "HR 6825 200069369 Halo\n",
      "63 Oph 200069370 Halo\n",
      "HR 6679 200069373 Halo\n",
      "HD 165784 200069371 Halo\n",
      "HD 161083 200069374 Halo\n",
      "5 Sgr 200069372 Halo\n",
      "HD 167576 200069378 Halo\n",
      "HR 6773 200069380 Halo\n",
      "HD 163296 200071159 Halo\n",
      "HD 165052 200069379 Halo\n",
      "17 Sgr 200069375 Halo\n",
      "HD 169966 200069376 Halo\n",
      "HD 162030 200069377 Halo\n",
      "\n",
      "\n",
      "Campaign 10 \n",
      "\n",
      "../data/haloC10.csv\n",
      "Porrima 200084004 Halo\n",
      "Zaniah 200084005 Halo\n",
      "21 Vir 200084006 Halo\n",
      "FW Vir 200084007 Halo\n",
      "HR 4837 200084008 Halo\n",
      "HR 4591 200084009 Halo\n",
      "HR 4613 200084010 Halo\n",
      "HD 107794 200084011 Halo\n",
      "\n",
      "\n",
      "Campaign 11 \n",
      "\n",
      "../data/haloC11.csv\n",
      "tet Oph 200128906 Halo\n",
      "44 Oph 200128907 Halo\n",
      "45 Oph 200128908 Halo\n",
      "51 Oph 200128909 Halo\n",
      "36 Oph 200129035 Halo\n",
      "omi Oph 200128910 Halo\n",
      "26 Oph 200129034 Halo\n",
      "HR 6472 200128911 Halo\n",
      "HR 6366 200128913 Halo\n",
      "HR 6365 200128912 Halo\n",
      "191 Oph 200128914 Halo\n",
      "\n",
      "\n",
      "Campaign 12 \n",
      "\n",
      "../data/haloC12.csv\n",
      "kap Psc 200164167 Halo\n",
      "83 Aqr 200164168 Halo\n",
      "24 Psc 200164169 Halo\n",
      "HR 8759 200164170 Halo\n",
      "14 Psc 200164171 Halo\n",
      "HR 8921 200164172 Halo\n",
      "81 Aqr 200164173 Halo\n",
      "HR 8897 200164174 Halo\n",
      "\n",
      "\n",
      "Campaign 13 \n",
      "\n",
      "../data/haloC13.csv\n",
      "Aldebaran 200173843 LC Halo\n",
      "tet2 Tau 200173845 LC Halo\n",
      "tet2 Tau 200173879 SC Halo\n",
      "eps Tau 200173844 LC Halo\n",
      "tet1 Tau 200173846 LC Halo\n",
      "kap1 Tau 200173847 LC Halo\n",
      "kap1 Tau 200173880 SC Halo\n",
      "del3 Tau 200173849 LC Halo\n",
      "tau Tau 200173850 LC Halo\n",
      "ups Tau 200173848 LC Halo\n",
      "ups Tau 200173881 SC Halo\n",
      "rho Tau 200173851 LC Halo\n",
      "rho Tau 200173882 SC Halo\n",
      "11 Ori 200173853 LC Halo\n",
      "HR 1427 200173855 LC Halo\n",
      "HR 1427 200173883 SC Halo\n",
      "15 Ori 200173854 LC Halo\n",
      "75 Tau 200173852 LC Halo\n",
      "97 Tau 200173857 LC Halo\n",
      "97 Tau 200173884 SC Halo\n",
      "HR 1684 200173856 LC Halo\n",
      "kap2 Tau 200173859 LC Halo\n",
      "kap2 Tau 200173885 SC Halo\n",
      "56 Tau 200173861 LC Halo\n",
      "81 Tau 200173860 LC Halo\n",
      "53 Tau 200173864 LC Halo\n",
      "HR 1585 200173858 LC Halo\n",
      "80 Tau 200173866 LC Halo\n",
      "51 Tau 200173865 LC Halo\n",
      "HR 1403 200173867 LC Halo\n",
      "89 Tau 200173868 LC Halo\n",
      "HR 1576 200173871 LC Halo\n",
      "98 Tau 200173870 LC Halo\n",
      "99 Tau 200173862 LC Halo\n",
      "105 Tau 200173869 LC Halo\n",
      "HR 1554 200173874 LC Halo\n",
      "HR 1385 200173875 LC Halo\n",
      "85 Tau 200173878 SC Halo\n",
      "HR 1459 200173877 SC Halo\n",
      "HR 1741 200173873 LC Halo\n",
      "HR 1633 200173872 LC Halo\n",
      "HR 1755 200173876 LC Halo\n",
      "\n",
      "\n",
      "Campaign 14 \n",
      "\n",
      "../data/haloC14.csv\n",
      "rho Leo 200182931 Halo\n",
      "58 Leo 200182925 Halo\n",
      "48 Leo 200182926 Halo\n",
      "53 Leo 200182928 Halo\n",
      "65 Leo 200182927 Halo\n",
      "35 Sex 200182929 Halo\n",
      "43 Leo 200182930 Halo\n",
      "\n",
      "\n",
      "Campaign 15 \n",
      "\n",
      "../data/haloC15.csv\n",
      "Dschubba 200194910 Halo\n",
      "Zubenelhakrabi 200194911 Halo\n",
      "iot1 Lib 200194912 Halo\n",
      "41 Lib 200194913 Halo\n",
      "zet4 Lib 200194914 Halo\n",
      "HR 5762 200194915 Halo\n",
      "HR 5806 200194916 Halo\n",
      "zet3 Lib 200194917 Halo\n",
      "HR 5810 200194918 Halo\n",
      "iot2 Lib 200194919 Halo\n",
      "HR 5620 200194920 Halo\n",
      "28 Lib 200194921 Halo\n",
      "HD 138810 200194958 Halo\n",
      "\n",
      "\n",
      "Campaign 16 \n",
      "\n",
      "../data/haloC16.csv\n",
      "Asellus Australis 200200356 Halo\n",
      "Acubens 200200357 Halo\n",
      "ksi Cnc 200200358 Halo\n",
      "omi1 Cnc 200200360 Halo\n",
      "eta Cnc 200200359 Halo\n",
      "45 Cnc 200200728 Halo\n",
      "45 Cnc 200200728 SC Halo\n",
      "omi2 Cnc 200200361 Halo\n",
      "50 Cnc 200200363 Halo\n",
      "\n",
      "\n",
      "Campaign 17 \n",
      "\n",
      "../data/haloC17.csv\n",
      "Spica 200213067 Halo\n",
      "82 Vir 200213053 Halo\n",
      "76 Vir 200213054 Halo\n",
      "68 Vir 200213055 Halo\n",
      "80 Vir 200213056 Halo\n",
      "HR 5106 200213057 Halo\n",
      "HR 5059 200213058 Halo\n",
      "\n",
      "\n",
      "Campaign 18 \n",
      "\n",
      "../data/haloC18.csv\n",
      "gam Cnc 200233186 Halo\n",
      "zet Cnc 200233643 Halo\n",
      "eta Cnc 200233187 Halo\n",
      "60 Cnc 200233188 Halo\n",
      "49 Cnc 200233189 Halo\n",
      "HR 3264 200233190 Halo\n",
      "50 Cnc 200233191 Halo\n",
      "29 Cnc 200233192 Halo\n",
      "HR 3222 200233193 Halo\n",
      "21 Cnc 200233196 Halo\n",
      "25 Cnc 200233644 Halo\n",
      "HR 3558 200233195 Halo\n",
      "HR 3541 200233194 Halo\n",
      "\n",
      "\n"
     ]
    }
   ],
   "source": [
    "campaigns = range(4,19)\n",
    "objective = 'tv'\n",
    "lag = 10\n",
    "template = \"wget -q -nH --cut-dirs=6 -r -l0 -c -N -np -R 'index*' -erobots=off\"\n",
    "\n",
    "f = open('../data/download_halo.txt','w')\n",
    "h = open('../scripts/sbatch_k2sc_all.txt','w')\n",
    "h.write('python correct_halo.py -c 6 -name Spica --objective %s &> Spica_output.txt\\n' % objective) # do Spica manually\n",
    "k = open('../reduced/sbatch_halo_all.txt','w')\n",
    "short = open('../reduced/short.txt','w')\n",
    "for campaign in campaigns:\n",
    "    if campaign == 5:\n",
    "        continue\n",
    "    print('Campaign',campaign,'\\n')\n",
    "    g = open('../reduced/halo_commands_c%d.txt' % campaign,'w')\n",
    "    fname = '../data/haloC%d.csv' % campaign\n",
    "    print(fname)\n",
    "    data = Table.read(fname,format='ascii')\n",
    "    \n",
    "    for star in data:\n",
    "        epic = star['EPIC ID']\n",
    "        if 'alo' in star['MASK']:\n",
    "            print(star['Name'],star['EPIC ID'],star['MASK'])\n",
    "            if campaign == 11:\n",
    "                campaign = 111 # no 112\n",
    "            fname = 'ktwo%d-c%02d_lpd-targ.fits.gz' % (epic,campaign)\n",
    "            shortfname = fname.replace('lpd','spd')\n",
    "            if campaign in [9, 10]:\n",
    "                for j in [1,2]:\n",
    "                    fname = 'ktwo%d-c%d%d_lpd-targ.fits.gz' % (epic,campaign,j)\n",
    "                    url = 'https://archive.stsci.edu/pub/k2/target_pixel_files/c%d%d/%s00000/%s000/%s' % (campaign,j,str(epic)[:4],str(epic)[4:6],fname)\n",
    "                    command = template+' '+url\n",
    "                    f.write(command+'\\n')\n",
    "                    halocommand = 'halo %s --data-dir ../data/ --save-dir ../reduced/c%d%d/ --name %s -c %d%d --thresh 0.5 --objective %s --lag %d --do-plot\\n' % (fname,campaign,j,star['Name'].replace(' ','_'),campaign,j,objective,lag)\n",
    "                    if campaign ==9:\n",
    "                        halocommand = 'halo %s --data-dir ../data/ --save-dir ../reduced/c%d%d/ --name %s -c %d%d --thresh 0.5 --objective %s --lag %d --deathstar --do-plot\\n' % (fname,campaign,j,star['Name'].replace(' ','_'),campaign,j,objective,lag)\n",
    "                    g.write(halocommand)\n",
    "                    k.write(halocommand)\n",
    "                    if shortfname in shortcad:\n",
    "                        shortcommand = 'halo %s --data-dir ../data/ --save-dir ../reduced/short/ --name %s -c %d%d --thresh 0.5 --objective %s --lag 300 --deathstar --do-plot\\n' % (shortfname,star['Name'].replace(' ','_'),campaign,j,objective)\n",
    "                        short.write(shortcommand)\n",
    "\n",
    "                    if (campaign == 10) and (j == 2):\n",
    "                        k2sc_command = 'python correct_halo.py -c %d%d -name %s --objective %s &> %s_output%d.txt' % (campaign,j,star['Name'].replace(' ','_'),objective,star['Name'].replace(' ','_'),j)\n",
    "                        h.write(k2sc_command+'\\n')\n",
    "            else:\n",
    "                url = 'https://archive.stsci.edu/pub/k2/target_pixel_files/c%d/%s00000/%s000/%s' % (campaign,str(epic)[:4],str(epic)[4:6],fname)\n",
    "                command = template+' '+url\n",
    "                f.write(command+'\\n')\n",
    "                k2sc_command = 'python correct_halo.py -c %d -name %s --objective %s &> %s_output.txt' % (campaign,star['Name'].replace(' ','_'),objective,star['Name'].replace(' ','_'))\n",
    "                h.write(k2sc_command+'\\n')\n",
    "\n",
    "#             print(command)\n",
    "                halocommand = 'halo %s --data-dir ../data/ --save-dir ../reduced/c%d/ --name %s -c %d --thresh 0.5 --objective %s --lag %d --do-plot\\n' % (fname,campaign,star['Name'].replace(' ','_'),campaign,objective,lag)\n",
    "                g.write(halocommand)\n",
    "                k.write(halocommand)\n",
    "                if shortfname in shortcad:\n",
    "                    shortcommand = 'halo %s --data-dir ../data/ --save-dir ../reduced/short/ --name %s -c %d --thresh 0.5 --objective %s --lag 300 --do-plot\\n' % (shortfname,star['Name'].replace(' ','_'),campaign,objective)\n",
    "                    short.write(shortcommand)\n",
    "\n",
    "#             print(halocommand)\n",
    "    g.close()\n",
    "    print('\\n')\n",
    "f.close()\n",
    "h.close()\n",
    "k.close()\n",
    "short.close()"
   ]
  },
  {
   "cell_type": "code",
   "execution_count": 5,
   "metadata": {},
   "outputs": [
    {
     "data": {
      "text/plain": [
       "'ktwo200233194-c18_lpd-targ.fits.gz'"
      ]
     },
     "execution_count": 5,
     "metadata": {},
     "output_type": "execute_result"
    }
   ],
   "source": [
    "fname.replace('lpd','lpd')"
   ]
  },
  {
   "cell_type": "markdown",
   "metadata": {},
   "source": [
    "### Now let us make some tables for the paper\n"
   ]
  },
  {
   "cell_type": "code",
   "execution_count": 6,
   "metadata": {},
   "outputs": [
    {
     "data": {
      "text/html": [
       "<i>Table masked=True length=13</i>\n",
       "<table id=\"table4493346184\" class=\"table-striped table-bordered table-condensed\">\n",
       "<thead><tr><th>Name</th><th>Vmag</th><th>Sp. Type</th><th>EPIC ID</th><th>RA (J2000) [deg]</th><th>Dec (J2000) [deg]</th><th>MASK</th><th>Investigation IDs</th><th>TPF</th><th>LC Halo Lightcurve</th><th>Lightcurve Image</th><th>Weight Image</th><th>Flux Image</th><th>Project</th><th>Contact</th><th>Publication</th><th>Comments</th></tr></thead>\n",
       "<thead><tr><th>str8</th><th>float64</th><th>str12</th><th>int64</th><th>float64</th><th>float64</th><th>str7</th><th>str87</th><th>int64</th><th>int64</th><th>int64</th><th>int64</th><th>int64</th><th>int64</th><th>int64</th><th>int64</th><th>str7</th></tr></thead>\n",
       "<tr><td>gam Cnc</td><td>4.652</td><td>A1IV</td><td>200233186</td><td>130.8214508</td><td>21.46850022</td><td>Halo</td><td>GO18038|GO18051|GAMMA_CANCRI-LC-BRIGHT_STAR_DISC</td><td>--</td><td>--</td><td>--</td><td>--</td><td>--</td><td>--</td><td>--</td><td>--</td><td>C5</td></tr>\n",
       "<tr><td>zet Cnc</td><td>4.67</td><td>F8V+G0V</td><td>200233643</td><td>123.0530265</td><td>17.64776708</td><td>Halo</td><td>GO18038|GO18051|ZETA_CANCRI-SC-BRIGHT_STAR_DISC</td><td>--</td><td>--</td><td>--</td><td>--</td><td>--</td><td>--</td><td>--</td><td>--</td><td>C5</td></tr>\n",
       "<tr><td>eta Cnc</td><td>5.325</td><td>K3III</td><td>200233187</td><td>128.1770667</td><td>20.44116292</td><td>Halo</td><td>GO18038|GO18051|ETA_CANCRI-LC-BRIGHT_STAR_DISC</td><td>--</td><td>--</td><td>--</td><td>--</td><td>--</td><td>--</td><td>--</td><td>--</td><td>C5, C16</td></tr>\n",
       "<tr><td>60 Cnc</td><td>5.44</td><td>K5III</td><td>200233188</td><td>133.98145</td><td>11.62602</td><td>Halo</td><td>GO18051|GO18068|60_CANCRI-LC-BRIGHT_STAR_DISC</td><td>--</td><td>--</td><td>--</td><td>--</td><td>--</td><td>--</td><td>--</td><td>--</td><td>C5, C16</td></tr>\n",
       "<tr><td>49 Cnc</td><td>5.66</td><td>A1VpHgMnSiEu</td><td>200233189</td><td>131.1876504</td><td>10.08166753</td><td>Halo</td><td>GO18049|GO18051|GO18067|49_CANCRI-LC-BRIGHT_STAR_DISC</td><td>--</td><td>--</td><td>--</td><td>--</td><td>--</td><td>--</td><td>--</td><td>--</td><td>C5</td></tr>\n",
       "<tr><td>HR 3264</td><td>5.798</td><td>K1III</td><td>200233190</td><td>125.08739</td><td>20.74772</td><td>Halo</td><td>GO18051|GO18068|HR_3264-LC-BRIGHT_STAR_DISC</td><td>--</td><td>--</td><td>--</td><td>--</td><td>--</td><td>--</td><td>--</td><td>--</td><td>C5</td></tr>\n",
       "<tr><td>50 Cnc</td><td>5.885</td><td>A1Vp</td><td>200233191</td><td>131.7334112</td><td>12.10995057</td><td>Halo</td><td>GO18038|GO18049|GO18051|50_CANCRI-LC-BRIGHT_STAR_DISC</td><td>--</td><td>--</td><td>--</td><td>--</td><td>--</td><td>--</td><td>--</td><td>--</td><td>C5, C16</td></tr>\n",
       "<tr><td>29 Cnc</td><td>5.948</td><td>A5V</td><td>200233192</td><td>127.1555775</td><td>14.21082345</td><td>Halo</td><td>GO18049|GO18051|29_CANCRI-LC-BRIGHT_STAR_DISC</td><td>--</td><td>--</td><td>--</td><td>--</td><td>--</td><td>--</td><td>--</td><td>--</td><td>C5</td></tr>\n",
       "<tr><td>HR 3222</td><td>6.047</td><td>G8III</td><td>200233193</td><td>123.2488715</td><td>16.51431877</td><td>Halo</td><td>GO18051|HR_3222-LC-BRIGHT_STAR_DISC</td><td>--</td><td>--</td><td>--</td><td>--</td><td>--</td><td>--</td><td>--</td><td>--</td><td>C5</td></tr>\n",
       "<tr><td>21 Cnc</td><td>6.08</td><td>M2III</td><td>200233196</td><td>125.9800391</td><td>10.63205666</td><td>Halo</td><td>GO18051|GO18067|21_CANCRI-LC-BRIGHT_STAR_DISC</td><td>--</td><td>--</td><td>--</td><td>--</td><td>--</td><td>--</td><td>--</td><td>--</td><td>C5</td></tr>\n",
       "<tr><td>25 Cnc</td><td>6.1</td><td>F5IIIm?</td><td>200233644</td><td>126.45782</td><td>17.04627</td><td>Halo</td><td>GO18036|GO18038|GO18049|GO18051|GO18066|25_CANCRI-SC-BRIGHT_STAR_DISC</td><td>--</td><td>--</td><td>--</td><td>--</td><td>--</td><td>--</td><td>--</td><td>--</td><td>C5</td></tr>\n",
       "<tr><td>HR 3558</td><td>6.146</td><td>K1III</td><td>200233195</td><td>134.284504</td><td>17.14374897</td><td>Halo</td><td>GO18051|HR_3558-LC-BRIGHT_STAR_DISC</td><td>--</td><td>--</td><td>--</td><td>--</td><td>--</td><td>--</td><td>--</td><td>--</td><td>C5</td></tr>\n",
       "<tr><td>HR 3541</td><td>6.4</td><td>C6,4</td><td>200233194</td><td>133.84534</td><td>17.23128</td><td>Halo</td><td>GO18017|GO18051|X_CANCRI-LC-BRIGHT_STAR_DISC</td><td>--</td><td>--</td><td>--</td><td>--</td><td>--</td><td>--</td><td>--</td><td>--</td><td>C5</td></tr>\n",
       "</table>"
      ],
      "text/plain": [
       "<Table masked=True length=13>\n",
       "  Name    Vmag    Sp. Type    EPIC ID  ... Project Contact Publication Comments\n",
       "  str8  float64    str12       int64   ...  int64   int64     int64      str7  \n",
       "------- ------- ------------ --------- ... ------- ------- ----------- --------\n",
       "gam Cnc   4.652         A1IV 200233186 ...      --      --          --       C5\n",
       "zet Cnc    4.67      F8V+G0V 200233643 ...      --      --          --       C5\n",
       "eta Cnc   5.325        K3III 200233187 ...      --      --          --  C5, C16\n",
       " 60 Cnc    5.44        K5III 200233188 ...      --      --          --  C5, C16\n",
       " 49 Cnc    5.66 A1VpHgMnSiEu 200233189 ...      --      --          --       C5\n",
       "HR 3264   5.798        K1III 200233190 ...      --      --          --       C5\n",
       " 50 Cnc   5.885         A1Vp 200233191 ...      --      --          --  C5, C16\n",
       " 29 Cnc   5.948          A5V 200233192 ...      --      --          --       C5\n",
       "HR 3222   6.047        G8III 200233193 ...      --      --          --       C5\n",
       " 21 Cnc    6.08        M2III 200233196 ...      --      --          --       C5\n",
       " 25 Cnc     6.1      F5IIIm? 200233644 ...      --      --          --       C5\n",
       "HR 3558   6.146        K1III 200233195 ...      --      --          --       C5\n",
       "HR 3541     6.4         C6,4 200233194 ...      --      --          --       C5"
      ]
     },
     "execution_count": 6,
     "metadata": {},
     "output_type": "execute_result"
    }
   ],
   "source": [
    "data[['Halo' in mask for mask in data['MASK']]]"
   ]
  },
  {
   "cell_type": "code",
   "execution_count": 7,
   "metadata": {},
   "outputs": [
    {
     "name": "stderr",
     "output_type": "stream",
     "text": [
      "WARNING: AstropyDeprecationWarning: astropy.extern.six will be removed in 4.0, use the six module directly if it is still needed [astropy.extern.six]\n"
     ]
    }
   ],
   "source": [
    "from astroquery.simbad import Simbad\n",
    "from astropy import coordinates as coord\n",
    "from astropy import units as u\n",
    "\n"
   ]
  },
  {
   "cell_type": "code",
   "execution_count": 8,
   "metadata": {},
   "outputs": [],
   "source": [
    "Simbad.reset_votable_fields()\n",
    "Simbad.add_votable_fields('sptype')\n",
    "sim = Simbad.query_objects(data['Name'])\n",
    "data['SpType'] = sim['SP_TYPE']\n"
   ]
  },
  {
   "cell_type": "code",
   "execution_count": 9,
   "metadata": {},
   "outputs": [],
   "source": [
    "from astropy.io import ascii\n",
    "names = ['Name','EPIC','RA (J2000)','Dec (J2000)','Spectral','V']\n",
    "units = ['', '', '(deg)','(deg)','Type','mag']\n",
    "\n",
    "latexdict = ascii.latex.latexdicts['AA'].copy()\n",
    "latexdict['tabletype']= 'table*'\n",
    "latexdict['units'] = dict(zip(names,units))\n"
   ]
  },
  {
   "cell_type": "code",
   "execution_count": 10,
   "metadata": {},
   "outputs": [
    {
     "name": "stdout",
     "output_type": "stream",
     "text": [
      "92\n"
     ]
    }
   ],
   "source": [
    "# dwarf_variability = Table.read('../data/dwarf_variability.csv',format='ascii')\n",
    "variability = Table.read('../data/dwarf_variability_new.csv',format='csv',encoding='utf-8-sig')['Campaign','Name','Classification','Notes']\n",
    "variability_2 = Table.read('../data/unclassifieds.csv',format='csv',encoding='utf-8-sig')['Campaign','Name','Classification','Notes']\n",
    "\n",
    "dwarf_variability = vstack([variability,variability_2])\n",
    "dwarf_variability.sort('Campaign')\n",
    "print(len(dwarf_variability))"
   ]
  },
  {
   "cell_type": "code",
   "execution_count": 11,
   "metadata": {},
   "outputs": [],
   "source": [
    "rgs = Table.read('../data/TargetsSeisParamsShort.csv',format='ascii')"
   ]
  },
  {
   "cell_type": "code",
   "execution_count": 12,
   "metadata": {},
   "outputs": [
    {
     "data": {
      "text/html": [
       "<i>Table length=38</i>\n",
       "<table id=\"table4711974056\" class=\"table-striped table-bordered table-condensed\">\n",
       "<thead><tr><th>epicid</th><th>numax</th><th>numaxerr</th><th>dnu</th><th>dnuerr</th></tr></thead>\n",
       "<thead><tr><th>int64</th><th>float64</th><th>float64</th><th>float64</th><th>float64</th></tr></thead>\n",
       "<tr><td>200007765</td><td>62.88519</td><td>1.43641</td><td>5.56429</td><td>0.17444</td></tr>\n",
       "<tr><td>200007766</td><td>62.59123</td><td>1.74219</td><td>5.71903</td><td>0.06925</td></tr>\n",
       "<tr><td>200062586</td><td>7.29299</td><td>0.14925</td><td>1.31019</td><td>0.04631</td></tr>\n",
       "<tr><td>200062590</td><td>11.7125</td><td>0.64569</td><td>1.87258</td><td>0.14649</td></tr>\n",
       "<tr><td>200062591</td><td>19.8491</td><td>0.80192</td><td>2.4554</td><td>0.06599</td></tr>\n",
       "<tr><td>200062592</td><td>46.95148</td><td>0.43368</td><td>5.96658</td><td>0.20496</td></tr>\n",
       "<tr><td>200068392</td><td>33.30912</td><td>1.21748</td><td>3.62276</td><td>0.0688</td></tr>\n",
       "<tr><td>200164170</td><td>10.13819</td><td>0.39047</td><td>1.56261</td><td>0.05254</td></tr>\n",
       "<tr><td>200164173</td><td>11.37651</td><td>0.22821</td><td>1.69055</td><td>0.0571</td></tr>\n",
       "<tr><td>200173844</td><td>54.46382</td><td>1.43783</td><td>5.13139</td><td>0.13344</td></tr>\n",
       "<tr><td>...</td><td>...</td><td>...</td><td>...</td><td>...</td></tr>\n",
       "<tr><td>200194921</td><td>41.04859</td><td>0.86153</td><td>4.10494</td><td>0.173</td></tr>\n",
       "<tr><td>200213056</td><td>36.98157</td><td>1.83006</td><td>4.37587</td><td>0.07622</td></tr>\n",
       "<tr><td>200233190</td><td>22.92764</td><td>0.17473</td><td>3.00059</td><td>0.18006</td></tr>\n",
       "<tr><td>200069358</td><td>38.02938</td><td>0.84195</td><td>4.00978</td><td>0.12845</td></tr>\n",
       "<tr><td>200069361</td><td>20.5981</td><td>4.18797</td><td>2.42484</td><td>0.40593</td></tr>\n",
       "<tr><td>200069362</td><td>13.59195</td><td>0.97266</td><td>1.97595</td><td>0.19604</td></tr>\n",
       "<tr><td>200069365</td><td>10.67739</td><td>3.37992</td><td>1.77468</td><td>0.2848</td></tr>\n",
       "<tr><td>200069367</td><td>13.76007</td><td>0.34409</td><td>2.23367</td><td>0.11216</td></tr>\n",
       "<tr><td>200069372</td><td>47.78205</td><td>0.95172</td><td>4.64827</td><td>0.05218</td></tr>\n",
       "<tr><td>200128914</td><td>29.19387</td><td>0.91664</td><td>3.9134</td><td>0.09851</td></tr>\n",
       "</table>"
      ],
      "text/plain": [
       "<Table length=38>\n",
       "  epicid   numax   numaxerr   dnu    dnuerr\n",
       "  int64   float64  float64  float64 float64\n",
       "--------- -------- -------- ------- -------\n",
       "200007765 62.88519  1.43641 5.56429 0.17444\n",
       "200007766 62.59123  1.74219 5.71903 0.06925\n",
       "200062586  7.29299  0.14925 1.31019 0.04631\n",
       "200062590  11.7125  0.64569 1.87258 0.14649\n",
       "200062591  19.8491  0.80192  2.4554 0.06599\n",
       "200062592 46.95148  0.43368 5.96658 0.20496\n",
       "200068392 33.30912  1.21748 3.62276  0.0688\n",
       "200164170 10.13819  0.39047 1.56261 0.05254\n",
       "200164173 11.37651  0.22821 1.69055  0.0571\n",
       "200173844 54.46382  1.43783 5.13139 0.13344\n",
       "      ...      ...      ...     ...     ...\n",
       "200194921 41.04859  0.86153 4.10494   0.173\n",
       "200213056 36.98157  1.83006 4.37587 0.07622\n",
       "200233190 22.92764  0.17473 3.00059 0.18006\n",
       "200069358 38.02938  0.84195 4.00978 0.12845\n",
       "200069361  20.5981  4.18797 2.42484 0.40593\n",
       "200069362 13.59195  0.97266 1.97595 0.19604\n",
       "200069365 10.67739  3.37992 1.77468  0.2848\n",
       "200069367 13.76007  0.34409 2.23367 0.11216\n",
       "200069372 47.78205  0.95172 4.64827 0.05218\n",
       "200128914 29.19387  0.91664  3.9134 0.09851"
      ]
     },
     "execution_count": 12,
     "metadata": {},
     "output_type": "execute_result"
    }
   ],
   "source": [
    "rgs"
   ]
  },
  {
   "cell_type": "code",
   "execution_count": 13,
   "metadata": {},
   "outputs": [
    {
     "name": "stdout",
     "output_type": "stream",
     "text": [
      "Written ../paper/table_c18.tex\n"
     ]
    }
   ],
   "source": [
    "to_write = data[['Halo' in mask for mask in data['MASK']]]['Name','EPIC ID','RA (J2000) [deg]','Dec (J2000) [deg]','SpType','Vmag']\n",
    "to_write.rename_column('EPIC ID','EPIC')\n",
    "to_write.rename_column('RA (J2000) [deg]','RA (J2000)')\n",
    "to_write.rename_column('Dec (J2000) [deg]','Dec (J2000)')\n",
    "to_write.rename_column('SpType','Spectral')\n",
    "to_write.rename_column('Vmag','V')\n",
    "to_write['Campaign'] = campaign*np.ones(len(to_write),dtype='int')\n",
    "\n",
    "\n",
    "caption = r\"All stars observed with halo photometry in Campaign %d.\" % campaign \n",
    "to_write.write('../paper/table_c%d.tex' % campaign,format='latex',latexdict=latexdict,caption=caption+'\\label{table_c%d}' % campaign,overwrite=True)\n",
    "print('Written %s' % '../paper/table_c%d.tex' % campaign)\n"
   ]
  },
  {
   "cell_type": "code",
   "execution_count": 14,
   "metadata": {},
   "outputs": [],
   "source": [
    "simgreek = ['alf','bet','gam','del','eps','zet','eta','tet','iot','kap','lam','mu','nu','ksi','omi','pi','rho','sig','tau','ups','phi','khi','psi','ome']\n",
    "latexgreek = ['\\\\alpha', '\\\\beta', '\\\\gamma','\\\\delta','\\\\epsilon','\\\\zeta','\\\\eta','\\\\theta','\\\\iota','\\\\kappa','\\\\lambda','\\\\mu','\\\\nu','\\\\xi','o','\\\\pi','\\\\rho','\\\\sigma','\\\\tau','\\\\upsilon','\\\\phi','\\\\chi','\\\\psi','\\\\omega']\n",
    "def translate_greek(word):\n",
    "    for j, letter in enumerate(simgreek):\n",
    "        if letter in word:\n",
    "            word = word.replace(letter,'$%s$' % latexgreek[j])\n",
    "            return(word)\n",
    "    return(word)\n",
    "\n"
   ]
  },
  {
   "cell_type": "code",
   "execution_count": 15,
   "metadata": {},
   "outputs": [],
   "source": [
    "def raise_indices(line):\n",
    "    try:\n",
    "        match = re.search('\\$(\\d+)',line).group()\n",
    "        return (line.replace(match,r'^{%s}$' % match[1:]))\n",
    "    except:\n",
    "        return(line)"
   ]
  },
  {
   "cell_type": "code",
   "execution_count": 16,
   "metadata": {},
   "outputs": [
    {
     "data": {
      "text/plain": [
       "'$\\\\delta^{1}$ Sct'"
      ]
     },
     "execution_count": 16,
     "metadata": {},
     "output_type": "execute_result"
    }
   ],
   "source": [
    "raise_indices(r'$\\delta$1 Sct')"
   ]
  },
  {
   "cell_type": "code",
   "execution_count": 17,
   "metadata": {},
   "outputs": [],
   "source": [
    "proper_names = Table.read('proper_names.csv',format='csv')"
   ]
  },
  {
   "cell_type": "code",
   "execution_count": 18,
   "metadata": {},
   "outputs": [
    {
     "data": {
      "text/html": [
       "<i>Table length=27</i>\n",
       "<table id=\"table4756367120\" class=\"table-striped table-bordered table-condensed\">\n",
       "<thead><tr><th>Proper</th><th>Paper</th></tr></thead>\n",
       "<thead><tr><th>str17</th><th>str9</th></tr></thead>\n",
       "<tr><td>Alcyone</td><td>eta Tau</td></tr>\n",
       "<tr><td>Atlas</td><td>27 Tau</td></tr>\n",
       "<tr><td>Electra</td><td>17 Tau</td></tr>\n",
       "<tr><td>Maia</td><td>20 Tau</td></tr>\n",
       "<tr><td>Merope</td><td>23 Tau</td></tr>\n",
       "<tr><td>Taygeta</td><td>19 Tau</td></tr>\n",
       "<tr><td>Pleione</td><td>28 Tau</td></tr>\n",
       "<tr><td>Ascella</td><td>zet Sgr</td></tr>\n",
       "<tr><td>Albaldah</td><td>pi Sgr</td></tr>\n",
       "<tr><td>Ainalrami</td><td>nu1 Sgr</td></tr>\n",
       "<tr><td>...</td><td>...</td></tr>\n",
       "<tr><td>Acubens</td><td>alf Cnc</td></tr>\n",
       "<tr><td>Spica</td><td>alf Vir</td></tr>\n",
       "<tr><td>Guniibuu</td><td>36 Oph</td></tr>\n",
       "<tr><td>Prima Hyadum</td><td>gam Tau</td></tr>\n",
       "<tr><td>Secunda Hyadum</td><td>del1 Tau</td></tr>\n",
       "<tr><td>Chamukuy</td><td>tet2 Tau</td></tr>\n",
       "<tr><td>Ain</td><td>eps Tau</td></tr>\n",
       "<tr><td>Nahn</td><td>ksi Cnc</td></tr>\n",
       "<tr><td>Asellus Borealis</td><td>gam Cnc</td></tr>\n",
       "<tr><td>Tegmine</td><td>zet Cnc</td></tr>\n",
       "</table>"
      ],
      "text/plain": [
       "<Table length=27>\n",
       "     Proper       Paper  \n",
       "     str17         str9  \n",
       "---------------- --------\n",
       "         Alcyone  eta Tau\n",
       "           Atlas   27 Tau\n",
       "         Electra   17 Tau\n",
       "            Maia   20 Tau\n",
       "          Merope   23 Tau\n",
       "         Taygeta   19 Tau\n",
       "         Pleione   28 Tau\n",
       "         Ascella  zet Sgr\n",
       "        Albaldah   pi Sgr\n",
       "       Ainalrami  nu1 Sgr\n",
       "             ...      ...\n",
       "         Acubens  alf Cnc\n",
       "           Spica  alf Vir\n",
       "        Guniibuu   36 Oph\n",
       "    Prima Hyadum  gam Tau\n",
       "  Secunda Hyadum del1 Tau\n",
       "        Chamukuy tet2 Tau\n",
       "             Ain  eps Tau\n",
       "            Nahn  ksi Cnc\n",
       "Asellus Borealis  gam Cnc\n",
       "         Tegmine  zet Cnc"
      ]
     },
     "execution_count": 18,
     "metadata": {},
     "output_type": "execute_result"
    }
   ],
   "source": [
    "proper_names"
   ]
  },
  {
   "cell_type": "code",
   "execution_count": 19,
   "metadata": {},
   "outputs": [],
   "source": [
    "translator_class = {'RG':'RG',\n",
    "                    'Cepheid':'Cepheid',\n",
    "                    'GD':r'$\\gamma\\,\\text{Dor}$',\n",
    "                    'DS':r'$\\delta\\,\\text{Sct}$',\n",
    "                    '?':'?',\n",
    "                    '-':r'--',\n",
    "                    'BC':r'$\\beta$\\,Cep',\n",
    "                    'a2CVn':r'$\\alpha^2\\,\\text{CVn}$',\n",
    "                    'Quiet':r'--',\n",
    "                    'f':r'$^f$'\n",
    "                   }\n"
   ]
  },
  {
   "cell_type": "code",
   "execution_count": 20,
   "metadata": {},
   "outputs": [],
   "source": [
    "def truncate_sptype(line_in):\n",
    "    lum_classes = ['IV','V','III','II','I']\n",
    "\n",
    "    peculiar = ''\n",
    "\n",
    "    for thing in ['p','m','e','?']:\n",
    "        if thing in line_in:\n",
    "            peculiar += thing\n",
    "            line_in = line_in.strip(thing)\n",
    "\n",
    "    lines = (line_in.split('+'))\n",
    "    out = []\n",
    "    \n",
    "\n",
    "    for line in lines:\n",
    "        for lum in lum_classes:\n",
    "            ind = line.find(lum)\n",
    "            if ind>0:\n",
    "                out.append(line[:(ind+len(lum))])\n",
    "                break\n",
    "        \n",
    "    if out == []:\n",
    "        return(line_in+peculiar)\n",
    "    else:\n",
    "        return ('+'.join(out)+peculiar)"
   ]
  },
  {
   "cell_type": "code",
   "execution_count": 21,
   "metadata": {},
   "outputs": [
    {
     "name": "stdout",
     "output_type": "stream",
     "text": [
      "Campaign 4 \n",
      "\n",
      "Campaign 6 \n",
      "\n",
      "Campaign 7 \n",
      "\n",
      "Campaign 8 \n",
      "\n",
      "Campaign 9 \n",
      "\n",
      "Weird star HD 165052\n",
      "Campaign 10 \n",
      "\n",
      "Weird star Porrima\n",
      "Campaign 11 \n",
      "\n"
     ]
    },
    {
     "name": "stderr",
     "output_type": "stream",
     "text": [
      "/anaconda3/lib/python3.7/site-packages/ipykernel_launcher.py:36: StringTruncateWarning: truncated right side string(s) longer than 7 character(s) during assignment\n",
      "/anaconda3/lib/python3.7/site-packages/ipykernel_launcher.py:36: StringTruncateWarning: truncated right side string(s) longer than 7 character(s) during assignment\n",
      "/anaconda3/lib/python3.7/site-packages/ipykernel_launcher.py:36: StringTruncateWarning: truncated right side string(s) longer than 5 character(s) during assignment\n",
      "/anaconda3/lib/python3.7/site-packages/ipykernel_launcher.py:36: StringTruncateWarning: truncated right side string(s) longer than 5 character(s) during assignment\n",
      "/anaconda3/lib/python3.7/site-packages/ipykernel_launcher.py:36: StringTruncateWarning: truncated right side string(s) longer than 5 character(s) during assignment\n"
     ]
    },
    {
     "name": "stdout",
     "output_type": "stream",
     "text": [
      "Weird star 44 Oph\n",
      "Weird star HR 6366\n",
      "Campaign 12 \n",
      "\n",
      "Campaign 13 \n",
      "\n",
      "Campaign 14 \n",
      "\n",
      "Weird star 35 Sex\n",
      "Campaign 15 \n",
      "\n",
      "Weird star HD 138810\n",
      "Campaign 16 \n",
      "\n",
      "Weird star Acubens\n",
      "Campaign 17 \n",
      "\n"
     ]
    },
    {
     "name": "stderr",
     "output_type": "stream",
     "text": [
      "/anaconda3/lib/python3.7/site-packages/ipykernel_launcher.py:36: StringTruncateWarning: truncated right side string(s) longer than 7 character(s) during assignment\n",
      "/anaconda3/lib/python3.7/site-packages/ipykernel_launcher.py:36: StringTruncateWarning: truncated right side string(s) longer than 7 character(s) during assignment\n"
     ]
    },
    {
     "name": "stdout",
     "output_type": "stream",
     "text": [
      "Campaign 18 \n",
      "\n",
      "50 Cnc repeated\n",
      "eta Cnc repeated\n",
      "Spica repeated\n",
      "Alcyone $\\eta$ Tau\n",
      "Atlas 27 Tau\n",
      "Electra 17 Tau\n",
      "Merope 23 Tau\n",
      "Maia 20 Tau\n",
      "Taygeta 19 Tau\n",
      "Pleione 28 Tau\n",
      "Spica $\\alpha$ Vir\n",
      "Ascella $\\zeta$ Sgr\n",
      "Albaldah $\\pi$ Sgr\n",
      "Ainalrami $\\nu^{1}$ Sgr\n",
      "Revati $\\zeta$ Psc A\n",
      "Porrima $\\gamma$ Vir\n",
      "Zaniah $\\eta$ Vir\n",
      "Aldebaran $\\alpha$ Tau\n",
      "Dschubba $\\delta$ Sco\n",
      "Zubenelhakrabi $\\gamma$ Lib\n",
      "Asellus Australis $\\delta$ Cnc\n",
      "Acubens $\\alpha$ Cnc\n",
      "Written ../paper/table_all.tex\n"
     ]
    }
   ],
   "source": [
    "campaigns = range(4,19)\n",
    "\n",
    "campaign_tables = []\n",
    "\n",
    "missing = []\n",
    "weird = {'44 Oph':'A3m',\n",
    "         'Acubens':'A5m',\n",
    "         'HR 6366':'Fm',\n",
    "         'Porrima':'F1V+F2Vm',\n",
    "         '35 Sex':'K1+K2III',\n",
    "         'HD 165052':'O6V+O8V',\n",
    "         'HD 138810':'K1III'}\n",
    "\n",
    "\n",
    "for campaign in campaigns:\n",
    "    if campaign == 5:\n",
    "        continue\n",
    "    print('Campaign',campaign,'\\n')\n",
    "    \n",
    "    fname = '../data/haloC%d.csv' % campaign\n",
    "    data = Table.read(fname,format='ascii')\n",
    "    data=data[~data['Name'].mask]\n",
    "    \n",
    "    sc = data[['SC' in mask for mask in data['MASK']]]\n",
    "    data = data[['SC' not in mask for mask in data['MASK']]]\n",
    "    \n",
    "    sim = Simbad.query_objects(data['Name'])\n",
    "    if campaign == 4:\n",
    "        sim = sim[sim['COO_ERR_MAJA']<10]\n",
    "    \n",
    "    data['SpType'] = Column([truncate_sptype(sptype.replace('_',' ')) for sptype in sim['SP_TYPE'].astype('str')],name='SpType')\n",
    "    for key in weird:\n",
    "        ind = (data['Name'] == key)\n",
    "        if sum(ind)>0:\n",
    "            print('Weird star',key)\n",
    "        data['SpType'][ind] = weird[key]\n",
    "    data['Campaign'] = campaign*np.ones(len(data),dtype='int')\n",
    "    \n",
    "    if campaign != 6:\n",
    "        to_write = data[['Halo' in mask for mask in data['MASK']]]['Name','EPIC ID','SpType','Vmag','Campaign','Comments']\n",
    "    else:\n",
    "        to_write = data['Name','EPIC ID','SpType','Vmag','Campaign','Comments']\n",
    "    to_write['Comments']= to_write['Comments'].astype('str')\n",
    "    for short in sc['Name']:\n",
    "        to_write['Comments'][to_write['Name']==short] = 'SC' \n",
    "    to_write.rename_column('EPIC ID','EPIC')\n",
    "    to_write.rename_column('Comments','Notes')\n",
    "#     to_write.rename_column('RA (J2000) [deg]','RA (J2000)')\n",
    "#     to_write.rename_column('Dec (J2000) [deg]','Dec (J2000)')\n",
    "    to_write.rename_column('SpType','Spectral')\n",
    "    to_write.rename_column('Vmag','V')\n",
    "    variability = []\n",
    "    for star in to_write:\n",
    "        name = star['Name']#.replace(' ','_')\n",
    "        epic = star['EPIC']\n",
    "        if name in dwarf_variability['Name']:\n",
    "            index = np.where(dwarf_variability['Name']==name)[0]\n",
    "            var = dwarf_variability['Classification'][index].data.data[0]\n",
    "            for key in translator_class.keys():\n",
    "                var = var.replace(key,translator_class[key])\n",
    "#             print('%s is a %s variable' % (name,str(var)))\n",
    "            variability.append(var)\n",
    "        elif epic in rgs['epicid']:\n",
    "            var = 'RG'\n",
    "#             print('%s is a %s variable' % (name,var))\n",
    "            variability.append(var)\n",
    "        else:\n",
    "#             print('%s is not variable' % (name))\n",
    "            missing.append(name.replace('_',' '))\n",
    "            variability.append('--')\n",
    "    to_write.add_column(Column(variability,name='Class'))\n",
    "    campaign_tables.append(to_write)\n",
    "    \n",
    "all_write = vstack(campaign_tables)\n",
    "all_write['Campaign'] = all_write['Campaign'].astype('str')\n",
    "\n",
    "repeated = set([i for i in all_write['Name'] if sum([1 for a in all_write['Name'] if a == i]) > 1])\n",
    "for repeat in repeated:\n",
    "    print(repeat,'repeated')\n",
    "    m = (all_write['Name']==repeat)\n",
    "    all_write[np.where(m)[0][0]]['Campaign'] += ', %s' % all_write[m]['Campaign'][1]\n",
    "    all_write.remove_row(np.where(m)[0][1])\n",
    "    \n",
    "names = []\n",
    "propernames = []\n",
    "new_names = []\n",
    "for j, name in enumerate(all_write['Name']):\n",
    "    try:\n",
    "        if name=='36 Oph':\n",
    "            new_names.append('36 Oph')\n",
    "            names.append(name)\n",
    "            propernames.append('Guniibuu')\n",
    "        else:\n",
    "            index = np.where(proper_names['Proper']==name)[0]\n",
    "            new_name = raise_indices(translate_greek(proper_names['Paper'][index].data[0]))\n",
    "            print(name,new_name)\n",
    "            new_names.append(new_name)\n",
    "            propernames.append(name)\n",
    "            names.append(new_name)\n",
    "    except:\n",
    "        names.append(raise_indices(translate_greek(name)))\n",
    "        \n",
    "all_write.replace_column('Name',Column([raise_indices(name) for name in names],name='Name'))\n",
    "\n",
    "units = ['','','Type','(mag)','','']\n",
    "latexdict_apj = {'units':dict(zip(all_write.keys(),units))}\n",
    "caption = r\"All stars observed with halo photometry in K2.\"\n",
    "all_write.write('../paper/table_all.tex',format='aastex',caption=caption+'\\label{table_all}',\n",
    "                latexdict=latexdict_apj,overwrite=True)\n",
    "print('Written %s' % '../paper/table_all.tex')\n",
    "tablenotes = [' \\\\tablenotetext{a}{\\citet{White2017}}',\n",
    "              ' \\\\tablenotetext{b}{\\citet{Buysschaert2018}}',\n",
    "              ' \\\\tablenotetext{c}{\\citet{Farr2018}}',\n",
    "              ' \\\\tablenotetext{d}{\\citet{Arentoft2019}}',\n",
    "              ' \\\\tablenotetext{e}{\\citet{Aerts2018}}']\n",
    "\n",
    "tablenotes_core = {'a': '\\citet{White2017}',\n",
    "              'b': '\\citet{Buysschaert2018}',\n",
    "              'c':'\\citet{Farr2018}',\n",
    "              'd': '\\citet{Arentoft2019}',\n",
    "              'e':'\\citet{Aerts2018}',\n",
    "             'f':r'Light curve shows RG pulsations, but is also significantly contaminated by the higher amplitude $\\delta$~Sct pulsations of the nearby $\\theta^2$~Tau.'}\n",
    "tablenotes = ['\\\\tablerefs{' + '; '.join(['$^%s$:~%s' % (key, tablenotes_core[key]) for key in tablenotes_core.keys()])+ '}']\n",
    "\n",
    "table_explanation = 'Some targets are known by proper names. ' + \"; \".join([part[1]+': '+part[0] \n",
    "                                                                            for part in (list(zip(proper_names['Proper'],\n",
    "                                                                                                  [raise_indices(translate_greek(name)).replace(' ','~') for name in proper_names['Paper']])))])\n",
    "\n",
    "tablenotes = tablenotes + ['\\\\tablecomments{%s}' %  table_explanation]\n",
    "with open('../paper/table_all.tex', 'r') as original: oldtext = original.read().replace('\\end{deluxetable}',\n",
    "                                                                                        '\\n'.join(tablenotes)+\n",
    "                                                                                        '\\n\\end{deluxetable}').replace('{ccccccc}','{ccllccl}')\n",
    "with open('../paper/table_all.tex', 'w') as modified: modified.write(\"\\\\startlongtable\\n\" + oldtext)\n"
   ]
  },
  {
   "cell_type": "code",
   "execution_count": 22,
   "metadata": {},
   "outputs": [
    {
     "data": {
      "text/plain": [
       "'Some targets are known by proper names. $\\\\eta$~Tau: Alcyone; 27~Tau: Atlas; 17~Tau: Electra; 20~Tau: Maia; 23~Tau: Merope; 19~Tau: Taygeta; 28~Tau: Pleione; $\\\\zeta$~Sgr: Ascella; $\\\\pi$~Sgr: Albaldah; $\\\\nu^{1}$~Sgr: Ainalrami; $\\\\zeta$~Psc~A: Revati; $\\\\gamma$~Vir: Porrima; $\\\\eta$~Vir: Zaniah; $\\\\alpha$~Tau: Aldebaran; $\\\\delta$~Sco: Dschubba; $\\\\gamma$~Lib: Zubenelhakrabi; $\\\\delta$~Cnc: Asellus Australis; $\\\\alpha$~Cnc: Acubens; $\\\\alpha$~Vir: Spica; 36~Oph: Guniibuu; $\\\\gamma$~Tau: Prima Hyadum; $\\\\delta^{1}$~Tau: Secunda Hyadum; $\\\\theta^{2}$~Tau: Chamukuy; $\\\\epsilon$~Tau: Ain; $\\\\xi$~Cnc: Nahn; $\\\\gamma$~Cnc: Asellus Borealis; $\\\\zeta$~Cnc: Tegmine'"
      ]
     },
     "execution_count": 22,
     "metadata": {},
     "output_type": "execute_result"
    }
   ],
   "source": [
    "table_explanation"
   ]
  },
  {
   "cell_type": "code",
   "execution_count": 23,
   "metadata": {},
   "outputs": [
    {
     "name": "stdout",
     "output_type": "stream",
     "text": [
      "161 unique stars\n"
     ]
    }
   ],
   "source": [
    "print(len(np.unique(all_write['Name'])),'unique stars')"
   ]
  },
  {
   "cell_type": "code",
   "execution_count": 24,
   "metadata": {},
   "outputs": [],
   "source": [
    "classes = ['?','BC','Cepheid','DS','GD','DS/GD','EB','SPB','Quiet','O','RG','Rotation','Supergiant','a2CVn']"
   ]
  },
  {
   "cell_type": "code",
   "execution_count": 25,
   "metadata": {},
   "outputs": [
    {
     "name": "stdout",
     "output_type": "stream",
     "text": [
      "3 ? in our sample\n",
      "4 BC in our sample\n",
      "3 Cepheid in our sample\n",
      "23 DS in our sample\n",
      "20 GD in our sample\n",
      "9 DS/GD in our sample\n",
      "2 EB in our sample\n",
      "14 SPB in our sample\n",
      "17 Quiet in our sample\n",
      "3 O in our sample\n",
      "3 RG in our sample\n",
      "8 Rotation in our sample\n",
      "5 Supergiant in our sample\n",
      "2 a2CVn in our sample\n"
     ]
    }
   ],
   "source": [
    "for cl in classes:\n",
    "    ncl = sum([cl in var for var in dwarf_variability['Classification']])\n",
    "    print(ncl,cl,'in our sample')"
   ]
  },
  {
   "cell_type": "code",
   "execution_count": 26,
   "metadata": {},
   "outputs": [
    {
     "data": {
      "text/html": [
       "<i>Table masked=True length=3</i>\n",
       "<table id=\"table4760050208\" class=\"table-striped table-bordered table-condensed\">\n",
       "<thead><tr><th>Campaign</th><th>Name</th><th>Classification</th><th>Notes</th></tr></thead>\n",
       "<thead><tr><th>int64</th><th>str9</th><th>str14</th><th>int64</th></tr></thead>\n",
       "<tr><td>8</td><td>42 Cet</td><td>?</td><td>--</td></tr>\n",
       "<tr><td>11</td><td>omi Oph</td><td>?</td><td>--</td></tr>\n",
       "<tr><td>13</td><td>HR 1427</td><td>GD?</td><td>--</td></tr>\n",
       "</table>"
      ],
      "text/plain": [
       "<Table masked=True length=3>\n",
       "Campaign   Name  Classification Notes\n",
       " int64     str9      str14      int64\n",
       "-------- ------- -------------- -----\n",
       "       8  42 Cet              ?    --\n",
       "      11 omi Oph              ?    --\n",
       "      13 HR 1427            GD?    --"
      ]
     },
     "execution_count": 26,
     "metadata": {},
     "output_type": "execute_result"
    }
   ],
   "source": [
    "dwarf_variability[['?' in var for var in dwarf_variability['Classification']]]"
   ]
  },
  {
   "cell_type": "code",
   "execution_count": 27,
   "metadata": {},
   "outputs": [
    {
     "data": {
      "text/plain": [
       "'kA5hA9mF1IIIm'"
      ]
     },
     "execution_count": 27,
     "metadata": {},
     "output_type": "execute_result"
    }
   ],
   "source": [
    "truncate_sptype('kA5hA9mF1III')"
   ]
  },
  {
   "cell_type": "code",
   "execution_count": 28,
   "metadata": {},
   "outputs": [
    {
     "name": "stdout",
     "output_type": "stream",
     "text": [
      "Input: A1IV Output: A1IV\n",
      "Input: F8V+G0V Output: F8V+G0V\n",
      "Input: K3III Output: K3III\n",
      "Input: K5III Output: K5III\n",
      "Input: K5III Output: K5III\n",
      "Input: A1Vp Output: A1Vp\n",
      "Input: K1III Output: K1III\n",
      "Input: K1III Output: K1III\n",
      "Input: A1Vp Output: A1Vp\n",
      "Input: A5V Output: A5V\n",
      "Input: G8III Output: G8III\n",
      "Input: G8III Output: G8III\n",
      "Input: M2III Output: M2III\n",
      "Input: M2III Output: M2III\n",
      "Input: F5IIIm? Output: F5IIIm?\n",
      "Input: F5IIIm? Output: F5IIIm?\n",
      "Input: K1III Output: K1III\n",
      "Input: G8+III-IIIb Output: G8+III-IIIb\n",
      "Input: C-N4.5 Output: C-N4.5\n",
      "Input: C-N4.5 Output: C-N4.5\n",
      "Input: K0 Output: K0\n",
      "Input: F8 Output: F8\n",
      "Input: G8III Output: G8III\n",
      "Input: G5 Output: G5\n",
      "Input: K0 Output: K0\n",
      "Input: G8III Output: G8III\n",
      "Input: G5 Output: G5\n",
      "Input: K0 Output: K0\n",
      "Input: K2 Output: K2\n",
      "Input: G5 Output: G5\n",
      "Input: K0 Output: K0\n",
      "Input: G5 Output: G5\n",
      "Input: G5 Output: G5\n",
      "Input: G5 Output: G5\n",
      "Input: K0 Output: K0\n",
      "Input: G5 Output: G5\n",
      "Input: K0 Output: K0\n"
     ]
    }
   ],
   "source": [
    "for sptype in data['SpType']:\n",
    "    print('Input:',sptype,'Output:',truncate_sptype(sptype))"
   ]
  },
  {
   "cell_type": "code",
   "execution_count": null,
   "metadata": {},
   "outputs": [],
   "source": []
  },
  {
   "cell_type": "code",
   "execution_count": 29,
   "metadata": {},
   "outputs": [
    {
     "data": {
      "text/plain": [
       "['$\\\\eta$ Tau',\n",
       " '27 Tau',\n",
       " '17 Tau',\n",
       " '23 Tau',\n",
       " '20 Tau',\n",
       " '19 Tau',\n",
       " '28 Tau',\n",
       " '$\\\\gamma$ Tau',\n",
       " '$\\\\delta^{1}$ Tau',\n",
       " '$\\\\alpha$ Vir',\n",
       " '69 Vir',\n",
       " '$\\\\zeta$ Sgr',\n",
       " '$\\\\pi$ Sgr',\n",
       " '$\\\\tau$ Sgr',\n",
       " '$\\\\xi^{2}$ Sgr',\n",
       " '$o$ Sgr',\n",
       " '52 Sgr',\n",
       " '$\\\\nu^{1}$ Sgr',\n",
       " '$\\\\psi$ Sgr',\n",
       " '43 Sgr',\n",
       " '$\\\\nu^{2}$ Sgr',\n",
       " '$\\\\epsilon$ Psc',\n",
       " '$\\\\zeta$ Psc A',\n",
       " '80 Psc',\n",
       " '42 Cet',\n",
       " '33 Cet',\n",
       " '60 Psc',\n",
       " '73 Psc',\n",
       " 'WW Psc',\n",
       " 'HR 243',\n",
       " 'HR 161',\n",
       " 'HR 6766',\n",
       " 'HR 6842',\n",
       " '4 Sgr',\n",
       " '11 Sgr',\n",
       " '7 Sgr',\n",
       " '15 Sgr',\n",
       " 'HR 6838',\n",
       " 'Y Sgr',\n",
       " 'HR 6716',\n",
       " 'HR 6681',\n",
       " '9 Sgr',\n",
       " '16 Sgr',\n",
       " 'HR 6825',\n",
       " '63 Oph',\n",
       " 'HR 6679',\n",
       " 'HD 165784',\n",
       " 'HD 161083',\n",
       " '5 Sgr',\n",
       " 'HD 167576',\n",
       " 'HR 6773',\n",
       " 'HD 163296',\n",
       " 'HD 165052',\n",
       " '17 Sgr',\n",
       " 'HD 169966',\n",
       " 'HD 162030',\n",
       " '$\\\\gamma$ Vir',\n",
       " '$\\\\eta$ Vir',\n",
       " '21 Vir',\n",
       " 'FW Vir',\n",
       " 'HR 4837',\n",
       " 'HR 4591',\n",
       " 'HR 4613',\n",
       " 'HD 107794',\n",
       " '$\\\\theta$ Oph',\n",
       " '44 Oph',\n",
       " '45 Oph',\n",
       " '51 Oph',\n",
       " '36 Oph',\n",
       " '$o$ Oph',\n",
       " '26 Oph',\n",
       " 'HR 6472',\n",
       " 'HR 6366',\n",
       " 'HR 6365',\n",
       " '191 Oph',\n",
       " '$\\\\kappa$ Psc',\n",
       " '83 Aqr',\n",
       " '24 Psc',\n",
       " 'HR 8759',\n",
       " '14 Psc',\n",
       " 'HR 8921',\n",
       " '81 Aqr',\n",
       " 'HR 8897',\n",
       " '$\\\\alpha$ Tau',\n",
       " '$\\\\theta^{2}$ Tau',\n",
       " '$\\\\epsilon$ Tau',\n",
       " '$\\\\theta^{1}$ Tau',\n",
       " '$\\\\kappa^{1}$ Tau',\n",
       " '$\\\\delta^{3}$ Tau',\n",
       " '$\\\\tau$ Tau',\n",
       " '$\\\\upsilon$ Tau',\n",
       " '$\\\\rho$ Tau',\n",
       " '11 Ori',\n",
       " 'HR 1427',\n",
       " '15 Ori',\n",
       " '75 Tau',\n",
       " '97 Tau',\n",
       " 'HR 1684',\n",
       " '$\\\\kappa^{2}$ Tau',\n",
       " '56 Tau',\n",
       " '81 Tau',\n",
       " '53 Tau',\n",
       " 'HR 1585',\n",
       " '80 Tau',\n",
       " '51 Tau',\n",
       " 'HR 1403',\n",
       " '89 Tau',\n",
       " 'HR 1576',\n",
       " '98 Tau',\n",
       " '99 Tau',\n",
       " '105 Tau',\n",
       " 'HR 1554',\n",
       " 'HR 1385',\n",
       " 'HR 1741',\n",
       " 'HR 1633',\n",
       " 'HR 1755',\n",
       " '$\\\\rho$ Leo',\n",
       " '58 Leo',\n",
       " '48 Leo',\n",
       " '53 Leo',\n",
       " '65 Leo',\n",
       " '35 Sex',\n",
       " '43 Leo',\n",
       " '$\\\\delta$ Sco',\n",
       " '$\\\\gamma$ Lib',\n",
       " '$\\\\iota^{1}$ Lib',\n",
       " '41 Lib',\n",
       " '$\\\\zeta^{4}$ Lib',\n",
       " 'HR 5762',\n",
       " 'HR 5806',\n",
       " '$\\\\zeta^{3}$ Lib',\n",
       " 'HR 5810',\n",
       " '$\\\\iota^{2}$ Lib',\n",
       " 'HR 5620',\n",
       " '28 Lib',\n",
       " 'HD 138810',\n",
       " '$\\\\delta$ Cnc',\n",
       " '$\\\\alpha$ Cnc',\n",
       " '$\\\\xi$ Cnc',\n",
       " '$o^{1}$ Cnc',\n",
       " '$\\\\eta$ Cnc',\n",
       " '45 Cnc',\n",
       " '$o^{2}$ Cnc',\n",
       " '50 Cnc',\n",
       " '82 Vir',\n",
       " '76 Vir',\n",
       " '68 Vir',\n",
       " '80 Vir',\n",
       " 'HR 5106',\n",
       " 'HR 5059',\n",
       " '$\\\\gamma$ Cnc',\n",
       " '$\\\\zeta$ Cnc',\n",
       " '60 Cnc',\n",
       " '49 Cnc',\n",
       " 'HR 3264',\n",
       " '29 Cnc',\n",
       " 'HR 3222',\n",
       " '21 Cnc',\n",
       " '25 Cnc',\n",
       " 'HR 3558',\n",
       " 'HR 3541']"
      ]
     },
     "execution_count": 29,
     "metadata": {},
     "output_type": "execute_result"
    }
   ],
   "source": [
    "[raise_indices(name) for name in names]"
   ]
  },
  {
   "cell_type": "code",
   "execution_count": 30,
   "metadata": {},
   "outputs": [
    {
     "name": "stdout",
     "output_type": "stream",
     "text": [
      "['\\\\tablerefs{$^a$: \\\\citet{White2017}; $^b$: \\\\citet{Buysschaert2018}; $^c$: \\\\citet{Farr2018}; $^d$: \\\\citet{Arentoft2019}; $^e$: \\\\citet{Aerts2018}; $^*$: Light curve shows RG pulsations, but is also significantly contaminated by the higher amplitude $\\\\delta$~Sct pulsations of the nearby $\\theta^2$~Tau}']\n"
     ]
    }
   ],
   "source": [
    "tablenotes_core = {'a': '\\citet{White2017}',\n",
    "              'b': '\\citet{Buysschaert2018}',\n",
    "              'c':'\\citet{Farr2018}',\n",
    "              'd': '\\citet{Arentoft2019}',\n",
    "              'e':'\\citet{Aerts2018}',\n",
    "             '*':'Light curve shows RG pulsations, but is also significantly contaminated by the higher amplitude $\\delta$~Sct pulsations of the nearby $\\theta^2$~Tau'}\n",
    "# tablenotes = ['\\\\tablerefs{$^a$: \\citet{White2017}; $^b$: \\citet{Buysschaert2018}; $^c$: \\citet{Farr2018}; $^d$: \\citet{Arentoft2019}; $^e$:\\citet{Aerts2018}']\n",
    "tablenotes = ['\\\\tablerefs{' + '; '.join(['$^%s$: %s' % (key, tablenotes_core[key]) for key in tablenotes_core.keys()])+ '}']\n",
    "print(tablenotes)\n"
   ]
  },
  {
   "cell_type": "code",
   "execution_count": 31,
   "metadata": {},
   "outputs": [
    {
     "data": {
      "text/plain": [
       "'Some targets are known by proper names. $\\\\eta$~Tau: Alcyone; 27~Tau: Atlas; 17~Tau: Electra; 20~Tau: Maia; 23~Tau: Merope; 19~Tau: Taygeta; 28~Tau: Pleione; $\\\\zeta$~Sgr: Ascella; $\\\\pi$~Sgr: Albaldah; $\\\\nu^{1}$~Sgr: Ainalrami; $\\\\zeta$~Psc~A: Revati; $\\\\gamma$~Vir: Porrima; $\\\\eta$~Vir: Zaniah; $\\\\alpha$~Tau: Aldebaran; $\\\\delta$~Sco: Dschubba; $\\\\gamma$~Lib: Zubenelhakrabi; $\\\\delta$~Cnc: Asellus Australis; $\\\\alpha$~Cnc: Acubens; $\\\\alpha$~Vir: Spica; 36~Oph: Guniibuu; $\\\\gamma$~Tau: Prima Hyadum; $\\\\delta^{1}$~Tau: Secunda Hyadum; $\\\\theta^{2}$~Tau: Chamukuy; $\\\\epsilon$~Tau: Ain; $\\\\xi$~Cnc: Nahn; $\\\\gamma$~Cnc: Asellus Borealis; $\\\\zeta$~Cnc: Tegmine'"
      ]
     },
     "execution_count": 31,
     "metadata": {},
     "output_type": "execute_result"
    }
   ],
   "source": [
    "table_explanation"
   ]
  },
  {
   "cell_type": "code",
   "execution_count": 32,
   "metadata": {},
   "outputs": [
    {
     "name": "stderr",
     "output_type": "stream",
     "text": [
      "WARNING: AstropyDeprecationWarning: missing_class.csv already exists. Automatically overwriting ASCII files is deprecated. Use the argument 'overwrite=True' in the future. [astropy.io.ascii.ui]\n"
     ]
    }
   ],
   "source": [
    "missing_class = join(Table([Column(missing,name='Name')]),vstack(campaign_tables),keys='Name')['Name','Spectral','Campaign']\n",
    "missing_class.write('missing_class.csv')"
   ]
  },
  {
   "cell_type": "code",
   "execution_count": 33,
   "metadata": {},
   "outputs": [
    {
     "data": {
      "text/plain": [
       "'\\tablenotetext{a}{\\\\citet{White2017}}\\n\\tablenotetext{a}{\\\\citet{White2017}}\\n\\tablenotetext{a}{\\\\citet{White2017}}\\n\\tablenotetext{a}{\\\\citet{White2017}}\\n\\tablenotetext{a}{\\\\citet{White2017}}'"
      ]
     },
     "execution_count": 33,
     "metadata": {},
     "output_type": "execute_result"
    }
   ],
   "source": [
    "tablenotes = ['\\tablenotetext{a}{\\citet{White2017}}']*5\n",
    "'\\n'.join(tablenotes)"
   ]
  },
  {
   "cell_type": "code",
   "execution_count": 34,
   "metadata": {},
   "outputs": [
    {
     "name": "stdout",
     "output_type": "stream",
     "text": [
      "Written ../paper/all_stars_1.tex\n",
      "Written ../paper/all_stars_2.tex\n",
      "Written ../paper/all_stars_3.tex\n",
      "Written ../paper/all_stars_4.tex\n",
      "Written ../paper/all_stars_5.tex\n",
      "Written ../paper/all_stars_6.tex\n"
     ]
    }
   ],
   "source": [
    "for l, ccat in enumerate([all_write[:29],all_write[29:54],all_write[54:81],all_write[81:114],all_write[114:134],all_write[134:]]):\n",
    "    latexdict = ascii.latex.latexdicts['AA'].copy()\n",
    "    latexdict['tabletype']= 'table*'\n",
    "    latexdict['units'] = dict(zip(names,units))\n",
    "    \n",
    "    campaigns_list = ['Campaigns 7-8','Campaign 9','Campaigns 10-12','Campaign 13','Campaigns 14-15','Campaigns 16-18']\n",
    "\n",
    "    caption = \"Stars in %s observed with halo photometry in K2.\" % campaigns_list[l]\n",
    "    ccat.write('../paper/all_stars_%d.tex' % (l+1),format='latex',latexdict=latexdict,caption=caption+'\\label{table_%s}' % l,overwrite=True)\n",
    "    print('Written %s' % '../paper/all_stars_%d.tex' % (l+1))\n",
    "        \n"
   ]
  },
  {
   "cell_type": "markdown",
   "metadata": {},
   "source": [
    "### Which are giants and which are main sequence?\n"
   ]
  },
  {
   "cell_type": "code",
   "execution_count": 35,
   "metadata": {},
   "outputs": [],
   "source": [
    "Simbad.reset_votable_fields()\n",
    "# Simbad.list_votable_fields()\n",
    "Simbad.add_votable_fields('parallax')\n",
    "sim = Simbad.query_objects(data['Name'])\n",
    "# data['SpType'] = sim['SP_TYPE']\n"
   ]
  },
  {
   "cell_type": "code",
   "execution_count": 36,
   "metadata": {},
   "outputs": [],
   "source": [
    "def abs_mag(app_mag,dist):\n",
    "    return app_mag - 5.*(np.log10(dist) - 1.)"
   ]
  },
  {
   "cell_type": "code",
   "execution_count": 37,
   "metadata": {},
   "outputs": [],
   "source": [
    "abs_V = abs_mag(data['Vmag'],1./(sim['PLX_VALUE']))"
   ]
  },
  {
   "cell_type": "code",
   "execution_count": 38,
   "metadata": {},
   "outputs": [
    {
     "name": "stdout",
     "output_type": "stream",
     "text": [
      "Campaign 6 \n",
      "\n",
      "Campaign 7 \n",
      "\n",
      "Campaign 8 \n",
      "\n",
      "Campaign 9 \n",
      "\n",
      "Campaign 10 \n",
      "\n",
      "Campaign 11 \n",
      "\n",
      "Campaign 12 \n",
      "\n",
      "Campaign 13 \n",
      "\n"
     ]
    },
    {
     "name": "stderr",
     "output_type": "stream",
     "text": [
      "/anaconda3/lib/python3.7/site-packages/astropy/table/column.py:221: UserWarning: Warning: converting a masked element to nan.\n",
      "  self_data = np.array(data, dtype=dtype, copy=copy)\n",
      "/anaconda3/lib/python3.7/site-packages/astropy/table/column.py:221: UserWarning: Warning: converting a masked element to nan.\n",
      "  self_data = np.array(data, dtype=dtype, copy=copy)\n"
     ]
    },
    {
     "name": "stdout",
     "output_type": "stream",
     "text": [
      "Campaign 14 \n",
      "\n",
      "Campaign 15 \n",
      "\n",
      "Campaign 16 \n",
      "\n",
      "Campaign 17 \n",
      "\n",
      "Campaign 18 \n",
      "\n"
     ]
    },
    {
     "name": "stderr",
     "output_type": "stream",
     "text": [
      "/anaconda3/lib/python3.7/site-packages/astropy/table/column.py:221: UserWarning: Warning: converting a masked element to nan.\n",
      "  self_data = np.array(data, dtype=dtype, copy=copy)\n"
     ]
    }
   ],
   "source": [
    "campaigns = range(6,19)\n",
    "\n",
    "campaign_tables = []\n",
    "\n",
    "Simbad.add_votable_fields('parallax')\n",
    "Simbad.add_votable_fields('parallax')\n",
    "Simbad.add_votable_fields('flux(B)')\n",
    "Simbad.add_votable_fields('sptype')\n",
    "\n",
    "\n",
    "for campaign in campaigns:\n",
    "    print('Campaign',campaign,'\\n')\n",
    "    \n",
    "    fname = '../data/haloC%d.csv' % campaign\n",
    "    data = Table.read(fname,format='ascii')\n",
    "    data=data[~data['Name'].mask]\n",
    "\n",
    "    data = data[['SC' not in mask for mask in data['MASK']]]\n",
    "    sim = Simbad.query_objects(data['Name'])\n",
    "    data['SpType'] = Column([sptype.replace('_',' ') for sptype in sim['SP_TYPE'].astype('str')],name='SpType')\n",
    "\n",
    "    data['parallax'] = Column([parallax for parallax in sim['PLX_VALUE']],name='parallax')\n",
    "    data['Bmag'] = Column([b for b in sim['FLUX_B']],name='Bmag')\n",
    "\n",
    "    data['Campaign'] = campaign*np.ones(len(data),dtype='int')\n",
    "            \n",
    "    to_write = data[['Halo' in mask for mask in data['MASK']]]['Name','EPIC ID','Vmag','Bmag','Campaign','parallax','SpType']\n",
    "    to_write.rename_column('EPIC ID','EPIC')\n",
    "    campaign_tables.append(to_write)\n",
    "    \n",
    "all_plot = vstack(campaign_tables)\n",
    "all_plot['parallax'][all_plot['Name']=='omi Oph'] = 11.5763\n",
    "all_plot['Campaign'] = all_plot['Campaign'].astype('str')\n",
    "all_plot['abs_Vmag'] = abs_mag(all_plot['Vmag'],1./(all_plot['parallax']/1000.))\n",
    "all_plot['b_v'] = all_plot['Bmag']-all_plot['Vmag']\n",
    "\n",
    "\n",
    "all_plot['b_v'][all_plot['Name']=='36 Oph'] = 0.85 # multiple systems\n",
    "all_plot['b_v'][all_plot['Name']=='omi Oph'] = 1.1\n",
    "\n",
    "\n"
   ]
  },
  {
   "cell_type": "code",
   "execution_count": null,
   "metadata": {},
   "outputs": [],
   "source": []
  },
  {
   "cell_type": "code",
   "execution_count": 39,
   "metadata": {},
   "outputs": [],
   "source": [
    "giants = np.array(['III' in sptype for sptype in all_plot['SpType']])"
   ]
  },
  {
   "cell_type": "code",
   "execution_count": 40,
   "metadata": {},
   "outputs": [
    {
     "data": {
      "text/plain": [
       "<matplotlib.lines.Line2D at 0x11bd409e8>"
      ]
     },
     "execution_count": 40,
     "metadata": {},
     "output_type": "execute_result"
    },
    {
     "data": {
      "image/png": "[encoded data removed]",
      "text/plain": [
       "<Figure size 432x288 with 1 Axes>"
      ]
     },
     "metadata": {
      "needs_background": "light"
     },
     "output_type": "display_data"
    }
   ],
   "source": [
    "plt.plot(all_plot['b_v'],all_plot['abs_Vmag'],'.')\n",
    "plt.plot(all_plot['b_v'][giants],all_plot['abs_Vmag'][giants],'.')\n",
    "\n",
    "plt.ylim(4,-8)\n",
    "plt.axvline(0.75)\n",
    "plt.axvline(0.5,color=colours[2])"
   ]
  },
  {
   "cell_type": "code",
   "execution_count": 41,
   "metadata": {},
   "outputs": [
    {
     "data": {
      "text/html": [
       "<i>Table masked=True length=4</i>\n",
       "<table id=\"table4761148328\" class=\"table-striped table-bordered table-condensed\">\n",
       "<thead><tr><th>Name</th><th>EPIC</th><th>Vmag</th><th>Bmag</th><th>Campaign</th><th>parallax</th><th>SpType</th><th>abs_Vmag</th><th>b_v</th></tr></thead>\n",
       "<thead><tr><th>str17</th><th>int64</th><th>float64</th><th>float64</th><th>str21</th><th>float64</th><th>str21</th><th>float64</th><th>float64</th></tr></thead>\n",
       "<tr><td>psi Sgr</td><td>200062584</td><td>4.85</td><td>5.409999847412109</td><td>7</td><td>10.93</td><td>K0/1III+A/F</td><td>0.04310080974851438</td><td>0.5599998474121097</td></tr>\n",
       "<tr><td>42 Cet</td><td>200068399</td><td>5.87</td><td>6.510000228881836</td><td>8</td><td>9.93</td><td>G8IV+A(8)</td><td>0.8547462424769057</td><td>0.6400002288818358</td></tr>\n",
       "<tr><td>7 Sgr</td><td>200069362</td><td>5.34</td><td>5.860000133514404</td><td>9</td><td>2.8053</td><td>F2II-III</td><td>-2.4201034414191778</td><td>0.5200001335144044</td></tr>\n",
       "<tr><td>zet Cnc</td><td>200233643</td><td>4.67</td><td>5.199999809265137</td><td>18</td><td>39.87</td><td>F8V+G0V</td><td>2.6732311783119727</td><td>0.5299998092651368</td></tr>\n",
       "</table>"
      ],
      "text/plain": [
       "<Table masked=True length=4>\n",
       "  Name     EPIC     Vmag  ...    SpType         abs_Vmag             b_v        \n",
       " str17    int64   float64 ...    str21          float64            float64      \n",
       "------- --------- ------- ... ----------- ------------------- ------------------\n",
       "psi Sgr 200062584    4.85 ... K0/1III+A/F 0.04310080974851438 0.5599998474121097\n",
       " 42 Cet 200068399    5.87 ...   G8IV+A(8)  0.8547462424769057 0.6400002288818358\n",
       "  7 Sgr 200069362    5.34 ...    F2II-III -2.4201034414191778 0.5200001335144044\n",
       "zet Cnc 200233643    4.67 ...     F8V+G0V  2.6732311783119727 0.5299998092651368"
      ]
     },
     "execution_count": 41,
     "metadata": {},
     "output_type": "execute_result"
    }
   ],
   "source": [
    "funny = (all_plot['b_v']<0.75)*(all_plot['b_v']>0.5)\n",
    "all_plot[funny]"
   ]
  },
  {
   "cell_type": "code",
   "execution_count": 42,
   "metadata": {},
   "outputs": [],
   "source": [
    "# psi Sgr is a giant\n",
    "# 42 Cet is a subgiant\n",
    "# 7 Sgr is a giant"
   ]
  },
  {
   "cell_type": "code",
   "execution_count": 43,
   "metadata": {},
   "outputs": [
    {
     "name": "stderr",
     "output_type": "stream",
     "text": [
      "WARNING: AstropyDeprecationWarning: halo_giants.csv already exists. Automatically overwriting ASCII files is deprecated. Use the argument 'overwrite=True' in the future. [astropy.io.ascii.ui]\n",
      "WARNING: AstropyDeprecationWarning: halo_dwarfs.csv already exists. Automatically overwriting ASCII files is deprecated. Use the argument 'overwrite=True' in the future. [astropy.io.ascii.ui]\n"
     ]
    }
   ],
   "source": [
    "Table(all_plot['Name','EPIC'][all_plot['b_v']>0.5]).write('halo_giants.csv')\n",
    "Table(all_plot['Name','EPIC'][all_plot['b_v']<0.5]).write('halo_dwarfs.csv')\n"
   ]
  },
  {
   "cell_type": "code",
   "execution_count": 44,
   "metadata": {},
   "outputs": [],
   "source": [
    "# tab.write('halo_giants.csv')"
   ]
  },
  {
   "cell_type": "code",
   "execution_count": 45,
   "metadata": {},
   "outputs": [
    {
     "data": {
      "text/plain": [
       "1.0"
      ]
     },
     "execution_count": 45,
     "metadata": {},
     "output_type": "execute_result"
    }
   ],
   "source": [
    "-np.floor(np.log10(1.03))+1"
   ]
  },
  {
   "cell_type": "code",
   "execution_count": 46,
   "metadata": {},
   "outputs": [
    {
     "ename": "ValueError",
     "evalue": "unsupported format character '%' (0x25) at index 2",
     "output_type": "error",
     "traceback": [
      "\u001b[0;31m---------------------------------------------------------------------------\u001b[0m",
      "\u001b[0;31mValueError\u001b[0m                                Traceback (most recent call last)",
      "\u001b[0;32m<ipython-input-46-bf206fb03787>\u001b[0m in \u001b[0;36m<module>\u001b[0;34m()\u001b[0m\n\u001b[0;32m----> 1\u001b[0;31m \u001b[0mprint\u001b[0m\u001b[0;34m(\u001b[0m\u001b[0;34m'%.%df'\u001b[0m \u001b[0;34m%\u001b[0m \u001b[0;34m(\u001b[0m\u001b[0;36m3\u001b[0m\u001b[0;34m,\u001b[0m\u001b[0mnp\u001b[0m\u001b[0;34m.\u001b[0m\u001b[0mpi\u001b[0m\u001b[0;34m)\u001b[0m\u001b[0;34m)\u001b[0m\u001b[0;34m\u001b[0m\u001b[0m\n\u001b[0m",
      "\u001b[0;31mValueError\u001b[0m: unsupported format character '%' (0x25) at index 2"
     ]
    }
   ],
   "source": [
    "print('%.%df' % (3,np.pi))"
   ]
  },
  {
   "cell_type": "code",
   "execution_count": null,
   "metadata": {},
   "outputs": [],
   "source": [
    "write_rgs = rgs['epicid',]\n",
    "write_rgs.rename_column('epicid','EPIC')\n",
    "\n",
    "new_numax = Column(['%.2f $\\\\pm$ %.2f' % (numax, rgs['numaxerr'][j]) for j,numax in enumerate(rgs['numax'])],name='\\\\numax')\n",
    "new_Dnu = Column(['%.2f $\\\\pm$ %.2f' % (Dnu, rgs['dnuerr'][j]) for j,Dnu in enumerate(rgs['dnu'])],name=\"\\\\Dnu\")\n",
    "write_rgs.add_column(new_numax)\n",
    "write_rgs.add_column(new_Dnu)\n",
    "write_rgs = join(all_write['Name','EPIC'],write_rgs,keys='EPIC')\n",
    "units = ['','','(\\\\muHz)','(\\\\muHz)']\n",
    "latexdict_rgs = {'units':dict(zip(write_rgs.keys(),units))}\n",
    "\n",
    "caption='Global asteroseismic parameters for the 31 red giants for which solar-like oscillations were detected.'\n",
    "write_rgs.write('../paper/rgs.tex',format='aastex',caption=caption+'\\label{rgs}',\n",
    "                latexdict=latexdict_rgs,overwrite=True)\n",
    "\n",
    "# with open('../paper/rgs.tex', 'r') as original: oldtext = original.read()\n",
    "# with open('../paper/rgs.tex', 'w') as modified: modified.write(\"\\\\startlongtable\\n\" + oldtext)\n",
    "join(all_write['Name','EPIC'],write_rgs,keys='EPIC')"
   ]
  },
  {
   "cell_type": "code",
   "execution_count": null,
   "metadata": {},
   "outputs": [],
   "source": [
    "kep_data = Table.read('../data/k2_dr2_1arcsec.fits', format='fits')\n",
    "kep_data['abs_gmag'] = kep_data['phot_g_mean_mag'] - \\\n",
    "                            5.*(np.log10(kep_data['r_est']) - 1.)\n",
    "kep_data['abs_gmag'].unit = u.mag\n",
    "\n",
    "k2phot = Table.read('../data/k2_phot.csv',format='csv')\n",
    "kep_data = join(kep_data,k2phot,keys='epic_number')\n",
    "\n"
   ]
  },
  {
   "cell_type": "code",
   "execution_count": null,
   "metadata": {},
   "outputs": [],
   "source": [
    "kep_data['abs_vmag'] = kep_data['k2_vjmag'] - \\\n",
    "                            5.*(np.log10(kep_data['r_est']) - 1.)\n",
    "kep_data['b_v'] = kep_data['k2_bjmag']-kep_data['k2_vjmag']\n",
    "kep_data = kep_data[~kep_data['b_v'].mask]"
   ]
  },
  {
   "cell_type": "code",
   "execution_count": null,
   "metadata": {},
   "outputs": [],
   "source": [
    "f = plt.figure(figsize=(7,6))\n",
    "# filter = (kep_data['abs_vmag'] <= 18.) & (kep_data['parallax'] > 0.1)\n",
    "filter = (kep_data['b_v'] <= 18.) & (kep_data['abs_vmag'] <= 18.) & (kep_data['parallax_over_error'] > 50) & (kep_data['k2_vjmagerr'] < 0.05)\n",
    "\n",
    "allkep = plt.scatter(kep_data['b_v'][filter], kep_data['abs_vmag'][filter], \n",
    "                     alpha=0.15, color='k', s=1,label='All Kepler',rasterized=True)\n",
    "\n",
    "plt.plot(all_plot['b_v'],all_plot['abs_Vmag'],'.',markersize=8)\n",
    "\n",
    "# for j,special in enumerate(['HD_182354','HD_176209','BD+43_3068']):\n",
    "#     mmm = np.where(full_cat['Name']==special)[0]\n",
    "#     plt.plot(bp_rp[mmm],abs_gg[mmm],'*',color=colours[3+j],label=special.replace('_',' '),markersize=14,zorder=10)\n",
    "\n",
    "plt.xlabel(r'$B-V$', fontsize=14)\n",
    "plt.ylabel(r'Absolute $V$ mag', fontsize=14)\n",
    "plt.ylim([15,-10])\n",
    "plt.xlim([-0.5,2.0])\n",
    "# plt.xlim([-0.5,4.1])\n",
    "# handles, labels = plt.gca().get_legend_handles_labels()\n",
    "# order = [3,4,5,0,1,2]\n",
    "# plt.legend([handles[idx] for idx in order],[labels[idx] for idx in order],fontsize=12,frameon=False)\n",
    "# plt.title(r'Halo Stars in the Gaia Colour-Magnitude Diagram',y=1.01,fontsize=14)\n",
    "# plt.axvline(0.95) # separate giants and dwarfs \n",
    "plt.savefig('../paper/cmd_halo.pdf',bbox_inches='tight')"
   ]
  },
  {
   "cell_type": "code",
   "execution_count": null,
   "metadata": {},
   "outputs": [],
   "source": [
    "from bokeh.plotting import *\n",
    "from bokeh.io import output_notebook\n",
    "from bokeh.models import OpenURL, Circle, HoverTool, PanTool, BoxZoomTool, ResetTool, SaveTool, TapTool, WheelZoomTool\n",
    "from bokeh.util.hex import hexbin\n",
    "from bokeh.transform import linear_cmap, factor_cmap\n",
    "from bokeh.palettes import Spectral6\n",
    "# output_notebook()\n",
    "reset_output()\n",
    "output_file(\"cmd_halo2.html\")\n"
   ]
  },
  {
   "cell_type": "code",
   "execution_count": null,
   "metadata": {},
   "outputs": [],
   "source": [
    "all_plot[~np.isfinite(all_plot['b_v'])]"
   ]
  },
  {
   "cell_type": "code",
   "execution_count": null,
   "metadata": {},
   "outputs": [],
   "source": [
    "import pandas as pd"
   ]
  },
  {
   "cell_type": "code",
   "execution_count": null,
   "metadata": {},
   "outputs": [],
   "source": [
    "pdg = all_plot.to_pandas()\n",
    "# pdg.insert(len(pdg.columns), 'SpType', pd.Series(newcat['SpType'], index=pdg.index))\n",
    "\n",
    "# pdkep = kep_data.to_pandas()"
   ]
  },
  {
   "cell_type": "code",
   "execution_count": null,
   "metadata": {},
   "outputs": [],
   "source": [
    "thin = 4\n",
    "filter2 = filter\n",
    "\n",
    "source = ColumnDataSource(\n",
    "    data=dict(\n",
    "        kepid=kep_data[filter2]['epic_number'].data.data[::thin],\n",
    "        kepmag=kep_data[filter2]['k2_kepmag'].data.data[::thin],\n",
    "        b_v=kep_data[filter2]['b_v'].data.data[::thin],\n",
    "        abs_vmag=kep_data[filter2]['abs_vmag'].data.data[::thin]\n",
    "        )\n",
    "    )\n",
    "\n",
    "source_halo = ColumnDataSource(\n",
    "    data=dict(\n",
    "        name=pdg.Name.values,\n",
    "        abs_vmag=pdg.abs_Vmag.values,\n",
    "        b_v=pdg.b_v.values,\n",
    "        epic=pdg.EPIC.values,\n",
    "        sptype=pdg.SpType.values,\n",
    "        campaign=pdg.Campaign.values\n",
    "        )\n",
    "    )\n"
   ]
  },
  {
   "cell_type": "code",
   "execution_count": null,
   "metadata": {},
   "outputs": [],
   "source": [
    "print(source_halo.data['name'][~np.isfinite(source_halo.data['abs_vmag'])])\n",
    "print(source_halo.data['name'][~np.isfinite(source_halo.data['b_v'])])\n",
    "print(np.sum(~np.isfinite(source.data['abs_vmag'])))\n",
    "print(np.sum(~np.isfinite(source.data['b_v'])))\n"
   ]
  },
  {
   "cell_type": "code",
   "execution_count": null,
   "metadata": {},
   "outputs": [],
   "source": [
    "# %%time\n",
    "reset_output()\n",
    "output_file(\"cmd_halo.html\")\n",
    "\n",
    "yrange = (15,-10)\n",
    "\n",
    "fig = figure(tools=\"wheel_zoom,pan,reset\",\n",
    "        y_range=yrange,title=\"Halo Stars in the Colour-Magnitude Diagram\")   \n",
    "kep_render = fig.circle('b_v','abs_vmag', source=source, size=4, name='EPICs',color='black',alpha=0.2)\n",
    "\n",
    "halo_render = fig.circle('b_v','abs_vmag', source=source_halo, size=10, name='Halo')\n",
    "hover = HoverTool(renderers=[halo_render],\n",
    "                    tooltips=[\n",
    "        (\"Name\", \"@name\"),\n",
    "        (\"EPIC\",\"@epic\"),\n",
    "        (\"Sp. Type\",\"@sptype\"),\n",
    "        (\"Abs. V mag\",\"@abs_vmag\"),\n",
    "        (\"B-V\",\"@b_v\"),\n",
    "        (\"Campaign\",\"@campaign\")\n",
    "                            ]\n",
    "    )\n",
    "fig.add_tools(hover)\n",
    "\n",
    "fig.xaxis.axis_label = 'B-V (mag)'\n",
    "fig.yaxis.axis_label = 'Abs. V Mag'\n",
    "fig.xaxis.axis_label_text_font_size = '14pt'\n",
    "fig.xaxis.major_label_text_font_size = '12pt'\n",
    "fig.yaxis.axis_label_text_font_size = '14pt'   \n",
    "fig.yaxis.major_label_text_font_size = '12pt' \n",
    "# save(fig)\n",
    "show(fig)\n"
   ]
  }
 ],
 "metadata": {
  "kernelspec": {
   "display_name": "Python 3",
   "language": "python",
   "name": "python3"
  },
  "language_info": {
   "codemirror_mode": {
    "name": "ipython",
    "version": 3
   },
   "file_extension": ".py",
   "mimetype": "text/x-python",
   "name": "python",
   "nbconvert_exporter": "python",
   "pygments_lexer": "ipython3",
   "version": "3.7.0"
  }
 },
 "nbformat": 4,
 "nbformat_minor": 2
}
