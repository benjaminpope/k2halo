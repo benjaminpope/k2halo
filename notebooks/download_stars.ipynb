{
 "cells": [
  {
   "cell_type": "code",
   "execution_count": null,
   "metadata": {},
   "outputs": [],
   "source": [
    "import numpy as np\n",
    "import matplotlib.pyplot as plt\n",
    "import glob\n",
    "\n",
    "from astropy.table import Table, join, Column\n",
    "% matplotlib inline\n",
    "\n",
    "import matplotlib as mpl\n",
    "mpl.style.use('seaborn-colorblind')\n",
    "\n",
    "#To make sure we have always the same matplotlib settings\n",
    "#(the ones in comments are the ipython notebook settings)\n",
    "\n",
    "mpl.rcParams['figure.figsize']=(12.0,9.0)    #(6.0,4.0)\n",
    "mpl.rcParams['font.size']=20               #10 \n",
    "mpl.rcParams['savefig.dpi']= 200             #72 \n",
    "mpl.rcParams['axes.labelsize'] = 18\n",
    "mpl.rcParams['axes.labelsize'] = 18\n",
    "mpl.rcParams['xtick.labelsize'] = 14\n",
    "mpl.rcParams['ytick.labelsize'] = 14\n",
    "from matplotlib import rc\n",
    "\n",
    "colours = mpl.rcParams['axes.prop_cycle'].by_key()['color']\n"
   ]
  },
  {
   "cell_type": "code",
   "execution_count": null,
   "metadata": {},
   "outputs": [],
   "source": [
    "fname = '../data/haloC4.csv'\n",
    "data = Table.read(fname,format='ascii')\n",
    "shortcad = open('../data/shortcad.txt','r').read().split('\\n')"
   ]
  },
  {
   "cell_type": "code",
   "execution_count": null,
   "metadata": {},
   "outputs": [],
   "source": [
    "data"
   ]
  },
  {
   "cell_type": "code",
   "execution_count": null,
   "metadata": {},
   "outputs": [],
   "source": [
    "campaigns = range(4,19)\n",
    "objective = 'tv'\n",
    "lag = 10\n",
    "template = \"wget -q -nH --cut-dirs=6 -r -l0 -c -N -np -R 'index*' -erobots=off\"\n",
    "\n",
    "f = open('../data/download_halo.txt','w')\n",
    "h = open('../scripts/sbatch_k2sc_all.txt','w')\n",
    "h.write('python correct_halo.py -c 6 -name Spica --objective %s &> Spica_output.txt\\n' % objective) # do Spica manually\n",
    "k = open('../reduced/sbatch_halo_all.txt','w')\n",
    "short = open('../reduced/short.txt','w')\n",
    "for campaign in campaigns:\n",
    "    if campaign == 5:\n",
    "        continue\n",
    "    print('Campaign',campaign,'\\n')\n",
    "    g = open('../reduced/halo_commands_c%d.txt' % campaign,'w')\n",
    "    fname = '../data/haloC%d.csv' % campaign\n",
    "    print(fname)\n",
    "    data = Table.read(fname,format='ascii')\n",
    "    \n",
    "    for star in data:\n",
    "        epic = star['EPIC ID']\n",
    "        if 'alo' in star['MASK']:\n",
    "            print(star['Name'],star['EPIC ID'],star['MASK'])\n",
    "            if campaign == 11:\n",
    "                campaign = 111 # no 112\n",
    "            fname = 'ktwo%d-c%02d_lpd-targ.fits.gz' % (epic,campaign)\n",
    "            shortfname = fname.replace('lpd','spd')\n",
    "            if campaign in [9, 10]:\n",
    "                for j in [1,2]:\n",
    "                    fname = 'ktwo%d-c%d%d_lpd-targ.fits.gz' % (epic,campaign,j)\n",
    "                    url = 'https://archive.stsci.edu/pub/k2/target_pixel_files/c%d%d/%s00000/%s000/%s' % (campaign,j,str(epic)[:4],str(epic)[4:6],fname)\n",
    "                    command = template+' '+url\n",
    "                    f.write(command+'\\n')\n",
    "                    halocommand = 'halo %s --data-dir ../data/ --save-dir ../reduced/c%d%d/ --name %s -c %d%d --thresh 0.5 --objective %s --lag %d --do-plot\\n' % (fname,campaign,j,star['Name'].replace(' ','_'),campaign,j,objective,lag)\n",
    "                    if campaign ==9:\n",
    "                        halocommand = 'halo %s --data-dir ../data/ --save-dir ../reduced/c%d%d/ --name %s -c %d%d --thresh 0.5 --objective %s --lag %d --deathstar --do-plot\\n' % (fname,campaign,j,star['Name'].replace(' ','_'),campaign,j,objective,lag)\n",
    "                    g.write(halocommand)\n",
    "                    k.write(halocommand)\n",
    "                    if shortfname in shortcad:\n",
    "                        shortcommand = 'halo %s --data-dir ../data/ --save-dir ../reduced/short/ --name %s -c %d%d --thresh 0.5 --objective %s --lag 300 --deathstar --do-plot\\n' % (shortfname,star['Name'].replace(' ','_'),campaign,j,objective)\n",
    "                        short.write(shortcommand)\n",
    "\n",
    "                    if (campaign == 10) and (j == 2):\n",
    "                        k2sc_command = 'python correct_halo.py -c %d%d -name %s --objective %s &> %s_output%d.txt' % (campaign,j,star['Name'].replace(' ','_'),objective,star['Name'].replace(' ','_'),j)\n",
    "                        h.write(k2sc_command+'\\n')\n",
    "            else:\n",
    "                url = 'https://archive.stsci.edu/pub/k2/target_pixel_files/c%d/%s00000/%s000/%s' % (campaign,str(epic)[:4],str(epic)[4:6],fname)\n",
    "                command = template+' '+url\n",
    "                f.write(command+'\\n')\n",
    "                k2sc_command = 'python correct_halo.py -c %d -name %s --objective %s &> %s_output.txt' % (campaign,star['Name'].replace(' ','_'),objective,star['Name'].replace(' ','_'))\n",
    "                h.write(k2sc_command+'\\n')\n",
    "\n",
    "#             print(command)\n",
    "                halocommand = 'halo %s --data-dir ../data/ --save-dir ../reduced/c%d/ --name %s -c %d --thresh 0.5 --objective %s --lag %d --do-plot\\n' % (fname,campaign,star['Name'].replace(' ','_'),campaign,objective,lag)\n",
    "                g.write(halocommand)\n",
    "                k.write(halocommand)\n",
    "                if shortfname in shortcad:\n",
    "                    shortcommand = 'halo %s --data-dir ../data/ --save-dir ../reduced/short/ --name %s -c %d --thresh 0.5 --objective %s --lag 300 --do-plot\\n' % (shortfname,star['Name'].replace(' ','_'),campaign,objective)\n",
    "                    short.write(shortcommand)\n",
    "\n",
    "#             print(halocommand)\n",
    "    g.close()\n",
    "    print('\\n')\n",
    "f.close()\n",
    "h.close()\n",
    "k.close()\n",
    "short.close()"
   ]
  },
  {
   "cell_type": "code",
   "execution_count": null,
   "metadata": {},
   "outputs": [],
   "source": [
    "fname.replace('lpd','lpd')"
   ]
  },
  {
   "cell_type": "markdown",
   "metadata": {},
   "source": [
    "### Now let us make some tables for the paper\n"
   ]
  },
  {
   "cell_type": "code",
   "execution_count": null,
   "metadata": {},
   "outputs": [],
   "source": [
    "data[['Halo' in mask for mask in data['MASK']]]"
   ]
  },
  {
   "cell_type": "code",
   "execution_count": null,
   "metadata": {},
   "outputs": [],
   "source": [
    "from astroquery.simbad import Simbad\n",
    "from astropy import coordinates as coord\n",
    "from astropy import units as u\n",
    "\n"
   ]
  },
  {
   "cell_type": "code",
   "execution_count": null,
   "metadata": {},
   "outputs": [],
   "source": [
    "Simbad.reset_votable_fields()\n",
    "Simbad.add_votable_fields('sptype')\n",
    "sim = Simbad.query_objects(data['Name'])\n",
    "data['SpType'] = sim['SP_TYPE']\n"
   ]
  },
  {
   "cell_type": "code",
   "execution_count": null,
   "metadata": {},
   "outputs": [],
   "source": [
    "from astropy.io import ascii\n",
    "names = ['Name','EPIC','RA (J2000)','Dec (J2000)','Spectral','V']\n",
    "units = ['', '', '(deg)','(deg)','Type','mag']\n",
    "\n",
    "latexdict = ascii.latex.latexdicts['AA'].copy()\n",
    "latexdict['tabletype']= 'table*'\n",
    "latexdict['units'] = dict(zip(names,units))\n"
   ]
  },
  {
   "cell_type": "code",
   "execution_count": null,
   "metadata": {},
   "outputs": [],
   "source": [
    "dwarf_variability = Table.read('../data/dwarf_variability.csv',format='ascii')"
   ]
  },
  {
   "cell_type": "code",
   "execution_count": null,
   "metadata": {},
   "outputs": [],
   "source": [
    "rgs = Table.read('../data/TargetsSeisParamsShort.csv',format='ascii')"
   ]
  },
  {
   "cell_type": "code",
   "execution_count": null,
   "metadata": {},
   "outputs": [],
   "source": [
    "rgs"
   ]
  },
  {
   "cell_type": "code",
   "execution_count": null,
   "metadata": {},
   "outputs": [],
   "source": []
  },
  {
   "cell_type": "code",
   "execution_count": null,
   "metadata": {},
   "outputs": [],
   "source": []
  },
  {
   "cell_type": "code",
   "execution_count": null,
   "metadata": {},
   "outputs": [],
   "source": [
    "to_write = data[['Halo' in mask for mask in data['MASK']]]['Name','EPIC ID','RA (J2000) [deg]','Dec (J2000) [deg]','SpType','Vmag']\n",
    "to_write.rename_column('EPIC ID','EPIC')\n",
    "to_write.rename_column('RA (J2000) [deg]','RA (J2000)')\n",
    "to_write.rename_column('Dec (J2000) [deg]','Dec (J2000)')\n",
    "to_write.rename_column('SpType','Spectral')\n",
    "to_write.rename_column('Vmag','V')\n",
    "to_write['Campaign'] = campaign*np.ones(len(to_write),dtype='int')\n",
    "\n",
    "\n",
    "caption = r\"All stars observed with halo photometry in Campaign %d.\" % campaign \n",
    "to_write.write('../paper/table_c%d.tex' % campaign,format='latex',latexdict=latexdict,caption=caption+'\\label{table_c%d}' % campaign,overwrite=True)\n",
    "print('Written %s' % '../paper/table_c%d.tex' % campaign)\n"
   ]
  },
  {
   "cell_type": "code",
   "execution_count": null,
   "metadata": {},
   "outputs": [],
   "source": [
    "from astropy.table import vstack, hstack\n",
    "simgreek = ['alf','bet','gam','del','eps','zet','eta','tet','iot','kap','lam','mu','nu','ksi','omi','pi','rho','sig','tau','ups','phi','khi','psi','ome']\n",
    "latexgreek = ['\\\\alpha', '\\\\beta', '\\\\gamma','\\\\delta','\\\\epsilon','\\\\zeta','\\\\eta','\\\\theta','\\\\iota','\\\\kappa','\\\\lambda','\\\\mu','\\\\nu','\\\\xi','o','\\\\pi','\\\\rho','\\\\sigma','\\\\tau','\\\\upsilon','\\\\phi','\\\\chi','\\\\psi','\\\\omega']\n",
    "def translate_greek(word):\n",
    "    for j, letter in enumerate(simgreek):\n",
    "        if letter in word:\n",
    "            word = word.replace(letter,'$%s$' % latexgreek[j])\n",
    "            return(word)\n",
    "    return(word)"
   ]
  },
  {
   "cell_type": "code",
   "execution_count": null,
   "metadata": {},
   "outputs": [],
   "source": [
    "to_write['Name']"
   ]
  },
  {
   "cell_type": "code",
   "execution_count": null,
   "metadata": {},
   "outputs": [],
   "source": [
    "star['Name']"
   ]
  },
  {
   "cell_type": "code",
   "execution_count": null,
   "metadata": {},
   "outputs": [],
   "source": [
    "campaigns = range(4,19)\n",
    "\n",
    "campaign_tables = []\n",
    "\n",
    "for campaign in campaigns:\n",
    "    if campaign == 5:\n",
    "        continue\n",
    "    print('Campaign',campaign,'\\n')\n",
    "    \n",
    "    fname = '../data/haloC%d.csv' % campaign\n",
    "    data = Table.read(fname,format='ascii')\n",
    "    data=data[~data['Name'].mask]\n",
    "    \n",
    "    sc = data[['SC' in mask for mask in data['MASK']]]\n",
    "    data = data[['SC' not in mask for mask in data['MASK']]]\n",
    "    \n",
    "    sim = Simbad.query_objects(data['Name'])\n",
    "    if campaign == 4:\n",
    "        sim = sim[sim['COO_ERR_MAJA']<10]\n",
    "    \n",
    "    data['SpType'] = Column([sptype.replace('_',' ') for sptype in sim['SP_TYPE'].astype('str')],name='SpType')\n",
    "    data['Campaign'] = campaign*np.ones(len(data),dtype='int')\n",
    "    \n",
    "    if campaign != 6:\n",
    "        to_write = data[['Halo' in mask for mask in data['MASK']]]['Name','EPIC ID','SpType','Vmag','Campaign','Comments']\n",
    "    else:\n",
    "        to_write = data['Name','EPIC ID','SpType','Vmag','Campaign','Comments']\n",
    "    to_write['Comments']= to_write['Comments'].astype('str')\n",
    "    for short in sc['Name']:\n",
    "        to_write['Comments'][to_write['Name']==short] = 'SC' \n",
    "    to_write.rename_column('EPIC ID','EPIC')\n",
    "    to_write.rename_column('Comments','Notes')\n",
    "#     to_write.rename_column('RA (J2000) [deg]','RA (J2000)')\n",
    "#     to_write.rename_column('Dec (J2000) [deg]','Dec (J2000)')\n",
    "    to_write.rename_column('SpType','Spectral')\n",
    "    to_write.rename_column('Vmag','V')\n",
    "    variability = []\n",
    "    for star in to_write:\n",
    "        name = star['Name'].replace(' ','_')\n",
    "        epic = star['EPIC']\n",
    "        if name in dwarf_variability['Name']:\n",
    "            index = np.where(dwarf_variability['Name']==name)[0]\n",
    "            var = dwarf_variability['Variability'][index].data.data[0]\n",
    "            if var == 'a2CVn':\n",
    "                var = '$\\\\alpha^2$\\\\,CVn'\n",
    "            print('%s is a %s variable' % (name,str(var)))\n",
    "            variability.append(var)\n",
    "        elif epic in rgs['epicid']:\n",
    "            var = 'RG'\n",
    "            print('%s is a %s variable' % (name,var))\n",
    "            variability.append(var)\n",
    "        else:\n",
    "            print('%s is not variable' % (name))\n",
    "            variability.append('--')\n",
    "    to_write.add_column(Column(variability,name='Class'))\n",
    "    campaign_tables.append(to_write)\n",
    "    \n",
    "all_write = vstack(campaign_tables)\n",
    "all_write['Campaign'] = all_write['Campaign'].astype('str')\n",
    "\n",
    "repeated = set([i for i in all_write['Name'] if sum([1 for a in all_write['Name'] if a == i]) > 1])\n",
    "for repeat in repeated:\n",
    "    print(repeat,'repeated')\n",
    "    m = (all_write['Name']==repeat)\n",
    "    all_write[np.where(m)[0][0]]['Campaign'] += ', %s' % all_write[m]['Campaign'][1]\n",
    "    all_write.remove_row(np.where(m)[0][1])\n",
    "    \n",
    "for j, name in enumerate(all_write['Name']):\n",
    "    if name[0].isupper():\n",
    "        continue\n",
    "    else:\n",
    "        all_write['Name'][j] = translate_greek(name)\n",
    "    \n",
    "units = ['','','Type','(mag)','','']\n",
    "latexdict_apj = {'units':dict(zip(all_write.keys(),units))}\n",
    "caption = r\"All stars observed with halo photometry in K2.\"\n",
    "all_write.write('../paper/table_all.tex',format='aastex',caption=caption+'\\label{table_all}',\n",
    "                latexdict=latexdict_apj,overwrite=True)\n",
    "print('Written %s' % '../paper/table_all.tex')\n",
    "tablenotes = ['\\\\tablenotetext{a}{\\citet{White2017}}',\n",
    "              '\\\\tablenotetext{b}{\\citet{Buysschaert2018}}',\n",
    "              '\\\\tablenotetext{c}{\\citet{Farr2018}}',\n",
    "              '\\\\tablenotetext{d}{\\citet{Arentoft2019}}',\n",
    "              '\\\\tablenotetext{e}{\\citet{Aerts2018}}',\n",
    "             '\\\\tablenotetext{1}{abCN0.5}']\n",
    "with open('../paper/table_all.tex', 'r') as original: oldtext = original.read().replace('\\end{deluxetable}',\n",
    "                                                                                        '\\n'.join(tablenotes)+\n",
    "                                                                                        '\\n\\end{deluxetable}')\n",
    "with open('../paper/table_all.tex', 'w') as modified: modified.write(\"\\\\startlongtable\\n\" + oldtext)\n"
   ]
  },
  {
   "cell_type": "code",
   "execution_count": null,
   "metadata": {},
   "outputs": [],
   "source": [
    "tablenotes = ['\\tablenotetext{a}{\\citet{White2017}}']*5\n",
    "'\\n'.join(tablenotes)"
   ]
  },
  {
   "cell_type": "code",
   "execution_count": null,
   "metadata": {},
   "outputs": [],
   "source": [
    "for l, ccat in enumerate([all_write[:29],all_write[29:54],all_write[54:81],all_write[81:114],all_write[114:134],all_write[134:]]):\n",
    "    latexdict = ascii.latex.latexdicts['AA'].copy()\n",
    "    latexdict['tabletype']= 'table*'\n",
    "    latexdict['units'] = dict(zip(names,units))\n",
    "    \n",
    "    campaigns_list = ['Campaigns 7-8','Campaign 9','Campaigns 10-12','Campaign 13','Campaigns 14-15','Campaigns 16-18']\n",
    "\n",
    "    caption = \"Stars in %s observed with halo photometry in K2.\" % campaigns_list[l]\n",
    "    ccat.write('../paper/all_stars_%d.tex' % (l+1),format='latex',latexdict=latexdict,caption=caption+'\\label{table_%s}' % l,overwrite=True)\n",
    "    print('Written %s' % '../paper/all_stars_%d.tex' % (l+1))\n",
    "        \n"
   ]
  },
  {
   "cell_type": "markdown",
   "metadata": {},
   "source": [
    "### Which are giants and which are main sequence?\n"
   ]
  },
  {
   "cell_type": "code",
   "execution_count": null,
   "metadata": {},
   "outputs": [],
   "source": [
    "Simbad.reset_votable_fields()\n",
    "# Simbad.list_votable_fields()\n",
    "Simbad.add_votable_fields('parallax')\n",
    "sim = Simbad.query_objects(data['Name'])\n",
    "# data['SpType'] = sim['SP_TYPE']\n"
   ]
  },
  {
   "cell_type": "code",
   "execution_count": null,
   "metadata": {},
   "outputs": [],
   "source": [
    "def abs_mag(app_mag,dist):\n",
    "    return app_mag - 5.*(np.log10(dist) - 1.)"
   ]
  },
  {
   "cell_type": "code",
   "execution_count": null,
   "metadata": {},
   "outputs": [],
   "source": [
    "abs_V = abs_mag(data['Vmag'],1./(sim['PLX_VALUE']))"
   ]
  },
  {
   "cell_type": "code",
   "execution_count": null,
   "metadata": {},
   "outputs": [],
   "source": [
    "campaigns = range(6,19)\n",
    "\n",
    "campaign_tables = []\n",
    "\n",
    "Simbad.add_votable_fields('parallax')\n",
    "Simbad.add_votable_fields('parallax')\n",
    "Simbad.add_votable_fields('flux(B)')\n",
    "Simbad.add_votable_fields('sptype')\n",
    "\n",
    "\n",
    "for campaign in campaigns:\n",
    "    print('Campaign',campaign,'\\n')\n",
    "    \n",
    "    fname = '../data/haloC%d.csv' % campaign\n",
    "    data = Table.read(fname,format='ascii')\n",
    "    data=data[~data['Name'].mask]\n",
    "\n",
    "    data = data[['SC' not in mask for mask in data['MASK']]]\n",
    "    sim = Simbad.query_objects(data['Name'])\n",
    "    data['SpType'] = Column([sptype.replace('_',' ') for sptype in sim['SP_TYPE'].astype('str')],name='SpType')\n",
    "\n",
    "    data['parallax'] = Column([parallax for parallax in sim['PLX_VALUE']],name='parallax')\n",
    "    data['Bmag'] = Column([b for b in sim['FLUX_B']],name='Bmag')\n",
    "\n",
    "    data['Campaign'] = campaign*np.ones(len(data),dtype='int')\n",
    "            \n",
    "    to_write = data[['Halo' in mask for mask in data['MASK']]]['Name','EPIC ID','Vmag','Bmag','Campaign','parallax','SpType']\n",
    "    to_write.rename_column('EPIC ID','EPIC')\n",
    "    campaign_tables.append(to_write)\n",
    "    \n",
    "all_plot = vstack(campaign_tables)\n",
    "all_plot['Campaign'] = all_plot['Campaign'].astype('str')\n",
    "all_plot['abs_Vmag'] = abs_mag(all_plot['Vmag'],1./(all_plot['parallax']/1000.))\n",
    "all_plot['b_v'] = all_plot['Bmag']-all_plot['Vmag']"
   ]
  },
  {
   "cell_type": "code",
   "execution_count": null,
   "metadata": {},
   "outputs": [],
   "source": [
    "giants = np.array(['III' in sptype for sptype in all_plot['SpType']])"
   ]
  },
  {
   "cell_type": "code",
   "execution_count": null,
   "metadata": {},
   "outputs": [],
   "source": [
    "plt.plot(all_plot['b_v'],all_plot['abs_Vmag'],'.')\n",
    "plt.plot(all_plot['b_v'][giants],all_plot['abs_Vmag'][giants],'.')\n",
    "\n",
    "plt.ylim(4,-8)\n",
    "plt.axvline(0.75)\n",
    "plt.axvline(0.5,color=colours[2])"
   ]
  },
  {
   "cell_type": "code",
   "execution_count": null,
   "metadata": {},
   "outputs": [],
   "source": [
    "funny = (all_plot['b_v']<0.75)*(all_plot['b_v']>0.5)\n",
    "all_plot[funny]"
   ]
  },
  {
   "cell_type": "code",
   "execution_count": null,
   "metadata": {},
   "outputs": [],
   "source": [
    "# psi Sgr is a giant\n",
    "# 42 Cet is a subgiant\n",
    "# 7 Sgr is a giant"
   ]
  },
  {
   "cell_type": "code",
   "execution_count": null,
   "metadata": {},
   "outputs": [],
   "source": [
    "Table(all_plot['Name','EPIC'][all_plot['b_v']>0.5]).write('halo_giants.csv')\n",
    "Table(all_plot['Name','EPIC'][all_plot['b_v']<0.5]).write('halo_dwarfs.csv')\n"
   ]
  },
  {
   "cell_type": "code",
   "execution_count": null,
   "metadata": {},
   "outputs": [],
   "source": [
    "# tab.write('halo_giants.csv')"
   ]
  },
  {
   "cell_type": "code",
   "execution_count": null,
   "metadata": {},
   "outputs": [],
   "source": [
    "write_rgs = rgs['epicid',]\n",
    "write_rgs.rename_column('epicid','EPIC')\n",
    "\n",
    "new_numax = Column(['%.1f $\\\\pm$ %.2f' % (numax, rgs['numaxerr'][j]) for j,numax in enumerate(rgs['numax'])],name='\\\\numax')\n",
    "new_Dnu = Column(['%.1f $\\\\pm$ %.2f' % (Dnu, rgs['dnuerr'][j]) for j,Dnu in enumerate(rgs['dnu'])],name=\"\\\\Dnu\")\n",
    "write_rgs.add_column(new_numax)\n",
    "write_rgs.add_column(new_Dnu)\n",
    "write_rgs = join(all_write['Name','EPIC'],write_rgs,keys='EPIC')\n",
    "units = ['','','(\\\\muHz)','(\\\\muHz)']\n",
    "latexdict_rgs = {'units':dict(zip(write_rgs.keys(),units))}\n",
    "\n",
    "caption='Global asteroseismic parameters for the 31 red giants for which solar-like oscillations were detected.'\n",
    "write_rgs.write('../paper/rgs.tex',format='aastex',caption=caption+'\\label{rgs}',\n",
    "                latexdict=latexdict_rgs,overwrite=True)\n",
    "\n",
    "# with open('../paper/rgs.tex', 'r') as original: oldtext = original.read()\n",
    "# with open('../paper/rgs.tex', 'w') as modified: modified.write(\"\\\\startlongtable\\n\" + oldtext)\n",
    "join(all_write['Name','EPIC'],write_rgs,keys='EPIC')"
   ]
  },
  {
   "cell_type": "code",
   "execution_count": null,
   "metadata": {},
   "outputs": [],
   "source": []
  },
  {
   "cell_type": "code",
   "execution_count": null,
   "metadata": {},
   "outputs": [],
   "source": []
  }
 ],
 "metadata": {
  "kernelspec": {
   "display_name": "Python 3",
   "language": "python",
   "name": "python3"
  },
  "language_info": {
   "codemirror_mode": {
    "name": "ipython",
    "version": 3
   },
   "file_extension": ".py",
   "mimetype": "text/x-python",
   "name": "python",
   "nbconvert_exporter": "python",
   "pygments_lexer": "ipython3",
   "version": "3.7.0"
  }
 },
 "nbformat": 4,
 "nbformat_minor": 2
}
